{
 "cells": [
  {
   "cell_type": "markdown",
   "metadata": {},
   "source": [
    "# Introduction to Python\n",
    "\n",
    "In the following introduction, we give a short overview of Python as a scripting language and it's use for Scientific Computing codes. Also, this notebook may serve as a quick reference throughout the course. \n",
    "\n",
    "In the textfields you will find short Python scripts. You can run them by clicking on them and pressing Shift+Enter, what will result in the corresponding output. Short excercises are included with the aim of reinforcing and illustrating concepts that are used in the labs. However, you do not need to submit solutions for this session.\n",
    "\n",
    "We use some examples from the complete Python Introduction book by Hans Petter Langtangen, available at:  \n",
    "https://hplgit.github.io/primer.html/doc/pub/half/book.pdf\n",
    "\n",
    "It's a good idea to check it!"
   ]
  },
  {
   "cell_type": "markdown",
   "metadata": {},
   "source": [
    "Let us begin with an example that models the kinematics of a ball in free fall:"
   ]
  },
  {
   "cell_type": "code",
   "execution_count": null,
   "metadata": {
    "collapsed": false
   },
   "outputs": [],
   "source": [
    "v0 = 5\n",
    "g = 9.81\n",
    "t = 0.6\n",
    "y = v0*t - 0.5*g*t**2\n",
    "print ('At t=',t,' s, the height of the ball is ',y,' m.')"
   ]
  },
  {
   "cell_type": "markdown",
   "metadata": {},
   "source": [
    "We have declared the variables v0 as initial speed, g as the gravitational constant and t as time. Then the displacement y corresponding to t seconds of free fall is computed. The computed position is printed in screen by using the function print. Objects that are enclosed by ' or \" are denoted strings and are basically text. The example above shows a simple way of outputting text by using print.\n",
    "\n",
    "In this course we use specific mathematical operations, for intance, in the script $*$ denotes product and t$**$2 means $t^2$. We also use functions calls as we demonstrate later on. There exist several python libraries that provide us with definitions of functions and other basic routines, but often these packages have different purposes. Hence, it becomes important to know what package is being used. For us NumPy (Numerical Python) will provide us with the basics.\n",
    "\n",
    "If we are interested in the time spent during the free fall we need to use square roots. For this we import numpy and use sqrt:"
   ]
  },
  {
   "cell_type": "code",
   "execution_count": null,
   "metadata": {
    "collapsed": false
   },
   "outputs": [],
   "source": [
    "v0 = 5\n",
    "g = 9.81\n",
    "yc = 0.2\n",
    "import numpy\n",
    "t1 = (v0 - numpy.sqrt(v0**2 - 2*g*yc))/g\n",
    "t2 = (v0 + numpy.sqrt(v0**2 - 2*g*yc))/g\n",
    "print('At t=',t1,'s and ,',t2,'s, the height is ',yc,'m.') "
   ]
  },
  {
   "cell_type": "markdown",
   "metadata": {},
   "source": [
    "We see that we are required to type numpy on every function call. This is a good idea because several different packages contain similar function calls but with different functionality. Then typing the package give us control on what we do. However, we can lessen the typing burden by relabelling numpy by just \"np\". Let's compute:"
   ]
  },
  {
   "cell_type": "code",
   "execution_count": null,
   "metadata": {
    "collapsed": false,
    "scrolled": true
   },
   "outputs": [],
   "source": [
    "import numpy as np\n",
    "# np is now the name of the mathematical module\n",
    "f1 = np.sin(np.pi)\n",
    "from numpy import log as ln\n",
    "f2 = ln(5)\n",
    "# now we redefine known functions with shorter labels.\n",
    "# Notice that we don't call numpy nor np in the f3 call\n",
    "from numpy import sin as s, cos as c, log as ln\n",
    "x = np.pi/2\n",
    "f3 = s(x)*c(x) + ln(x)\n",
    "print ('f1=',f1,', f2=',f2,', f3=',f3)"
   ]
  },
  {
   "cell_type": "markdown",
   "metadata": {},
   "source": [
    "Other special functions are also available. Are the following values equivalent?"
   ]
  },
  {
   "cell_type": "code",
   "execution_count": null,
   "metadata": {
    "collapsed": false
   },
   "outputs": [],
   "source": [
    "x = 2*np.pi\n",
    "r1 = np.sinh(x)\n",
    "r2 = 0.5*(np.exp(x) - np.exp(-x))\n",
    "r3 = 0.5*(np.e**x - np.e**(-x))\n",
    "print (\"r1=\",r1,\", r2=\",r2,\", r3=\",r3)"
   ]
  },
  {
   "cell_type": "markdown",
   "metadata": {},
   "source": [
    "We can also compute in complex arithmetics by using the imaginary unit 1j or adding \"j\" to a number to specify it's imaginary part. Lets check Euler's greatest formula:"
   ]
  },
  {
   "cell_type": "code",
   "execution_count": null,
   "metadata": {
    "collapsed": false
   },
   "outputs": [],
   "source": [
    "q = 8     \t\t\t\t\t# some arbitrary number\n",
    "z1=np.exp(1j*q) \t\t\t# exponential representation\n",
    "z2=np.cos(q) + 1j*np.sin(q)  # trigonometric representation\n",
    "print (\"z1=\",z1,\", z2=\",r2,\", z1-z2=\",(z1-z2))"
   ]
  },
  {
   "cell_type": "markdown",
   "metadata": {},
   "source": [
    "In this course we deal with a special class of functions denoted piecewise. Let's see an example:"
   ]
  },
  {
   "cell_type": "code",
   "execution_count": null,
   "metadata": {
    "collapsed": false
   },
   "outputs": [],
   "source": [
    "def f(x):\n",
    "\tif 0 <= x <= 1:\n",
    "\t\tvalue = x*(1-x)\n",
    "\telse:\n",
    "\t\tvalue = 0\n",
    "\treturn value\n",
    "\n",
    "print('f(0.5)=',f(0.5),', f(4)=',f(4))"
   ]
  },
  {
   "cell_type": "markdown",
   "metadata": {},
   "source": [
    "In the last example we have defined $f(x)$ to be later used in the print statement.\n",
    "### Excercise: \n",
    "- Explain the output. Particularly, we see that $f(4)=0$, does this mean that $4$ is a root of $x(1-x)$?"
   ]
  },
  {
   "cell_type": "markdown",
   "metadata": {},
   "source": [
    "## Loops"
   ]
  },
  {
   "cell_type": "markdown",
   "metadata": {},
   "source": [
    "A very valuable tool in scientific computations are loops. Let's see how it works:"
   ]
  },
  {
   "cell_type": "code",
   "execution_count": null,
   "metadata": {
    "collapsed": false
   },
   "outputs": [],
   "source": [
    "n = 3\n",
    "for i in range(-1, n):\n",
    "\tprint (i)"
   ]
  },
  {
   "cell_type": "markdown",
   "metadata": {},
   "source": [
    "We observe then that here range(-1,n) represents the values i=-1,1,...,n-1. Similarly, we can work with nested loops. Guess the output:"
   ]
  },
  {
   "cell_type": "code",
   "execution_count": null,
   "metadata": {
    "collapsed": false
   },
   "outputs": [],
   "source": [
    "for i in range(1, n+1):\n",
    "\tfor j in range(i):\n",
    "\t\tprint (i, j)"
   ]
  },
  {
   "cell_type": "markdown",
   "metadata": {},
   "source": [
    "Observe that in python idexes start from zero, the statement \"j in range(i)\" gives j=0,...,i-1. This is an important difference from other script languages where indexes start at unity and end one position after: j=1,...,i. Keep this in mind when writing your scripts.\n",
    "\n",
    "We can exclude some values on the last loop by adding a conditional statement. Try to guess the output:"
   ]
  },
  {
   "cell_type": "code",
   "execution_count": null,
   "metadata": {
    "collapsed": false
   },
   "outputs": [],
   "source": [
    "for i in range(1, n+1):\n",
    "    for j in range(i):\n",
    "        if i != 2:\n",
    "            print (i, j)"
   ]
  },
  {
   "cell_type": "markdown",
   "metadata": {},
   "source": [
    "Notice that the the values corresponding to i=2 have been ommitted. The clause i != 2, reads \"i not equals 2\". What values are excluded in the following example?"
   ]
  },
  {
   "cell_type": "code",
   "execution_count": null,
   "metadata": {
    "collapsed": false
   },
   "outputs": [],
   "source": [
    "for i in range(1, n+1):\n",
    "    for j in range(i):\n",
    "        if j:\n",
    "            print (i, j)"
   ]
  },
  {
   "cell_type": "markdown",
   "metadata": {},
   "source": [
    "The statement \"if j\" becomes true for any $j>0$, hence we exclude $j=0$. We can also write \"j!=0\" alternatively.\n",
    "### Exercise: \n",
    "- Print the message: \"Hello World!\" when $i$ is 2.\n",
    "\n",
    "Loops are typically used in approximation series. Consider the script for the approximation series of $sin(x)$ given by:"
   ]
  },
  {
   "cell_type": "code",
   "execution_count": null,
   "metadata": {
    "collapsed": false
   },
   "outputs": [],
   "source": [
    "import math as mt # importing factorial\n",
    "x = 1.2  # assign some value\n",
    "N = 5   # maximum power in sum\n",
    "k = 1\n",
    "s = x\n",
    "sign = 1.0\n",
    "\n",
    "while k < N:\n",
    "\tsign = - sign\n",
    "\tk = k + 2\n",
    "\tterm = sign*x**k/mt.factorial(k)\n",
    "\ts = s + term\n",
    "\n",
    "print ('sin(',x,') = ',np.sin(x),', series (',x,')=',s,' (approx with ',N,' terms)')"
   ]
  },
  {
   "cell_type": "markdown",
   "metadata": {},
   "source": [
    "### Excercise:\n",
    "- Use the script above to evaluate $\\pi\\approx 4\\sum_{k=1}^N \\frac{(-1)^{k+1}}{2k-1}$, by increasing $N$ and paying attention to the convergence towards $\\pi$.\n",
    "- Find $N$ such that we obtain an error less than $10^{-2}$."
   ]
  },
  {
   "cell_type": "markdown",
   "metadata": {},
   "source": [
    "We also use loops for numerical computations in general. The next example illustrates numerical integration:"
   ]
  },
  {
   "cell_type": "code",
   "execution_count": null,
   "metadata": {
    "collapsed": false
   },
   "outputs": [],
   "source": [
    "import numpy as pn\n",
    "# numerical integration example\n",
    "def Simpson(f, a, b, n=500):\n",
    "\th = (b - a)/float(n)\n",
    "\tsum1 = 0\n",
    "\tfor i in range(1, int(n/2) + 1):\n",
    "\t\tsum1 += f(a + (2*i-1)*h)\n",
    "\t\n",
    "\tsum2 = 0\n",
    "\tfor i in range(1, int(n/2)):\n",
    "\t\tsum2 += f(a + 2*i*h)\n",
    "\t\n",
    "\tintegral = (b-a)/(3*n)*(f(a) + f(b) + 4*sum1 + 2*sum2)\n",
    "\treturn integral\n",
    "def h(x):\n",
    "\treturn (3./2)*pn.sin(x)**3\n",
    "print ('Integral f(x) from 0 to pi:')\n",
    "\n",
    "def application():\n",
    "    for N in 2, 6, 12, 100, 500:\n",
    "        approx = Simpson(h, 0, pn.pi, N)\n",
    "        print ('N=%3d, approx=%18.15f, error=%9.2E' % \\\n",
    "            (N, approx, 2-approx))\n",
    "application ()"
   ]
  },
  {
   "cell_type": "markdown",
   "metadata": {},
   "source": [
    "Remarks:\n",
    "- The statement float(n) ensures that the division by n gives a decimal number.\n",
    "- Similarly, int(N/2) truncates the division giving the integer part.\n",
    "- We break a long line in the code by using \"\\\" symbol.\n",
    "- We have used several function definitions and the excecution is resumed in application () call.\n",
    "- Notice that the use of print here is slightly different than before. The current form allow us to control the formatting of the text in the classical C standard.\n",
    "\n",
    "We can directly input a new definition of h(x) and still use Simpson(...), we denote this concept: inline functions or lambda functions. Take a close look to the following case:"
   ]
  },
  {
   "cell_type": "code",
   "execution_count": null,
   "metadata": {
    "collapsed": false
   },
   "outputs": [],
   "source": [
    "N=5\n",
    "approx = Simpson((lambda x: pn.exp(x)), 0, 1.0, n)\n",
    "print ('N=%3d, approx=%18.15f' % (N, approx))"
   ]
  },
  {
   "cell_type": "markdown",
   "metadata": {},
   "source": [
    "### Excercise: \n",
    "- Verify the exact integration of the last example and find how many partitions ($N$) do we need for obtaining a residual smaller than $10^{-4}$.\n",
    "- Verify the Gaussian integral $\\sqrt{\\pi}=\\lim_{L\\rightarrow \\infty}2\\int_{0}^L e^{-x^2} dx$, by modifying $N$ and using $L=10$. Notice that this is an improper integral.\n",
    "- Find $N$ such that the residual for the Gaussian integral is smaller than $10^{-12}$.\n",
    "- What integral converges faster (residual drops faster with $N$)."
   ]
  },
  {
   "cell_type": "code",
   "execution_count": null,
   "metadata": {
    "collapsed": false
   },
   "outputs": [],
   "source": [
    "N=50\n",
    "approx = Simpson((lambda x: 2*pn.exp(-x**2)), 0, 10.0, n)\n",
    "print ('N=%3d, approx=%18.15f, error=%9.2E' % \\\n",
    "            (N, approx, (pn.sqrt(pn.pi)-approx)))"
   ]
  },
  {
   "cell_type": "markdown",
   "metadata": {},
   "source": [
    "# Arrays\n",
    "\n",
    "Arrays are objects that store several elements in a compact way. Often arrays are used in computations as matrices and vectors. Consider the array \"degrees\" containing elements that denote temperature in Celcius. Then we output the conversion table:"
   ]
  },
  {
   "cell_type": "code",
   "execution_count": null,
   "metadata": {
    "collapsed": false
   },
   "outputs": [],
   "source": [
    "degrees = np.array([-20, -15, -10, -5, 0, 5, 10, 15, 20, 25, 30, 35, 40])\n",
    "print ('    C    F')\n",
    "for C in degrees:\n",
    "\tF = (9.0/5)*C + 32\n",
    "\tprint ('%5d %5.1f' % (C,F))\n",
    "print ('The degrees list has', len(degrees), 'elements')"
   ]
  },
  {
   "cell_type": "markdown",
   "metadata": {},
   "source": [
    "We have defined the array degrees explicitly (we list each entry from creation), then we used a loop to operate each element of the array and get the respective conversion. Finally we access the array size by using: len(degrees).\n",
    "\n",
    "We can access several elements of the array in compact notation. For this consider the following task.\n",
    "\n",
    "### Excercise: \n",
    "- Experiment in the blank below the output of the following cases:\n",
    "degrees[2:], degrees[1:3], degrees[:3], degrees[1:-1], degrees[6:-2] and describe your observations."
   ]
  },
  {
   "cell_type": "code",
   "execution_count": null,
   "metadata": {
    "collapsed": false
   },
   "outputs": [],
   "source": []
  },
  {
   "cell_type": "markdown",
   "metadata": {},
   "source": [
    "Basically, we can obtain sub arrays from performing direct index operations. This special feature allow us to omit looping over array elements and improves readibility of the code. The package numpy offers a great deal of functions that allow arrays as input argument. \n",
    "\n",
    "The next code illustrate vectorized operations:  "
   ]
  },
  {
   "cell_type": "code",
   "execution_count": null,
   "metadata": {
    "collapsed": false,
    "scrolled": false
   },
   "outputs": [],
   "source": [
    "import numpy as np\n",
    "from sympy.matrices import *\n",
    "from matplotlib.pylab import *\n",
    "\n",
    "N=51\n",
    "\n",
    "def f1(t):\n",
    "\treturn t**2*np.exp(-t**2)\n",
    "\n",
    "def f2(t):\n",
    "\treturn t**2*f1(t)\n",
    "\n",
    "t = np.linspace(0, 3, N) # t is now an array/vector\n",
    "\n",
    "y1 = zeros(len(t))\n",
    "y2 = zeros(len(t))\n",
    "\n",
    "y1 = f1(t) # we compute f1(t) for each element of t in a single call\n",
    "\n",
    "for i in range(len(t)): # here we do it the classic way\n",
    "\ty2[i] = f2(t[i])\n",
    "\n",
    "# Plotting\n",
    "plot(t, y1, 'r-')\n",
    "hold('on')\n",
    "plot(t, y2, 'bo')\n",
    "\n",
    "title('My First Matplotlib Demo')\n",
    "xlabel('t')\n",
    "ylabel('y')\n",
    "legend(['t^2*exp(-t^2)', 't^4*exp(-t^2)'])\n",
    "title('Plotting two curves in the same plot')\n",
    "\n",
    "# fixing the output window\n",
    "axis([-0.5, 3.5, 0.0, 0.8]) # [tmin, tmax, ymin, ymax]\n",
    "show ()"
   ]
  },
  {
   "cell_type": "markdown",
   "metadata": {},
   "source": [
    "### Excercise\n",
    "- Repeat the two approximations for $\\pi$ (series and integral) and store the error in vectors E1 and E2.\n",
    "- Use the function semilogy and the vectors E1, E2 in order to plot the errors vs N. This strategy is useful for comparing convergence of different numerical methods. Basically we want to conclude what strategy performs better in terms of $N$. We will be studying convergence of several numerical methods applied to PDE's in the course.\n",
    "\n",
    "Similarly we can define explicitly matrices and operate in the following way:"
   ]
  },
  {
   "cell_type": "code",
   "execution_count": null,
   "metadata": {
    "collapsed": false
   },
   "outputs": [],
   "source": [
    "print('The 3x3 identity matrix: ')\n",
    "print((np.eye(3)))\n",
    "print('A single zero row: ')\n",
    "print((np.ones(5)))\n",
    "print('A column with zeros: ')\n",
    "print(np.zeros((3,1))) # notice the double brakets\n",
    "print('Zero rectangular matrix: ')\n",
    "print(np.zeros((4,2))) # notice the double brakets\n",
    "print('Specifiying a diagonal matrix: ')\n",
    "print(np.diag((1,2,3,4)))\n",
    "np.diags((1,2,3))"
   ]
  },
  {
   "cell_type": "markdown",
   "metadata": {},
   "source": [
    "Common usefull operations are also available:"
   ]
  },
  {
   "cell_type": "code",
   "execution_count": null,
   "metadata": {
    "collapsed": false
   },
   "outputs": [],
   "source": [
    "A=np.array([[1,1],[2,1]])\n",
    "B=np.array([[0,1],[1,0]])\n",
    "print('A transpose is: ')\n",
    "print((A.T))\n",
    "print('The sum is: ')\n",
    "print((A+B))\n",
    "print('Addition by scalar is: ')\n",
    "print((A-1))\n",
    "print('Product by scalar is: ')\n",
    "print((2*B))\n",
    "print('Matrix product is: ')\n",
    "print((A.dot(B)))"
   ]
  },
  {
   "cell_type": "markdown",
   "metadata": {},
   "source": [
    "### Exercise:\n",
    "- Verify in paper the results of the matrix operations.\n",
    "\n",
    "Particularly important matrix operations are inversion of a matrix and solution of linear systems. We verify the identity $A^{-1}A=I$"
   ]
  },
  {
   "cell_type": "code",
   "execution_count": null,
   "metadata": {
    "collapsed": false
   },
   "outputs": [],
   "source": [
    "Ainv=np.linalg.inv(A)\n",
    "print('We check the inverse:')\n",
    "print((Ainv.dot(A)))"
   ]
  },
  {
   "cell_type": "markdown",
   "metadata": {},
   "source": [
    "For the last task we assemble a tridiagonal matrix $A$ and a load vector $b$ filled with random elements and find $x$ such that the corresponding system: $Ax=b$ is satisfied."
   ]
  },
  {
   "cell_type": "code",
   "execution_count": null,
   "metadata": {
    "collapsed": false
   },
   "outputs": [],
   "source": [
    "from scipy.sparse import spdiags\n",
    "n=8;\n",
    "d=np.ones(n); #\n",
    "data = np.array([-d,2*d,-d])\n",
    "diags = np.array([-1, 0, 1])\n",
    "A=spdiags(data, diags, 8, 8).toarray()\n",
    "print('A is a banded matrix:')\n",
    "print(A)\n",
    "\n",
    "b=np.random.rand(n,1)  # vector filled with random elements\n",
    "x=np.linalg.solve(A,b) # solving the system Ax=b\n",
    "print('The solution x is:')\n",
    "print(x)"
   ]
  },
  {
   "cell_type": "code",
   "execution_count": null,
   "metadata": {
    "collapsed": false
   },
   "outputs": [],
   "source": [
    "print('The element A00=',A[0,0])\n",
    "A[-1,-1]=1 # we modify the last element of A\n",
    "print('The modified matrix is:\\n',A)"
   ]
  },
  {
   "cell_type": "markdown",
   "metadata": {},
   "source": [
    "We can also use index notation to extract submatrices. However, the following example demostrates an important concept in programming languages: \n",
    "We can copy by reference and by value. For this let's extract a sub matrix from A:"
   ]
  },
  {
   "cell_type": "code",
   "execution_count": null,
   "metadata": {
    "collapsed": false
   },
   "outputs": [],
   "source": [
    "sub=A[4:,4:] # we extract a sub matrix from A\n",
    "print(sub)\n",
    "sub[-1,-1]=10 # we modify sub\n",
    "print('Lets check A:')\n",
    "print(A)       # A has also been modified!"
   ]
  },
  {
   "cell_type": "markdown",
   "metadata": {},
   "source": [
    "when we create sub, it is copied from A by reference. This means that sub is still part of A.vThis behavior is dependent on the programming language and in Python the symbol '=' copies arrays and other large objects by reference.\n",
    "\n",
    "We can avoid this behavior by copying by value. For this we write explicitly instead: sub=np.copy(A[4:,4:])\n",
    "\n",
    "### Excercise:\n",
    "- Redo the last computation but now copy by value and check that sub is independent from A."
   ]
  },
  {
   "cell_type": "code",
   "execution_count": null,
   "metadata": {
    "collapsed": true
   },
   "outputs": [],
   "source": []
  },
  {
   "cell_type": "markdown",
   "metadata": {},
   "source": [
    "Congratulations, now you are ready for the labs!"
   ]
  },
  {
   "cell_type": "markdown",
   "metadata": {},
   "source": [
    "The following cell loads non-default styles for the notebook."
   ]
  },
  {
   "cell_type": "code",
   "execution_count": null,
   "metadata": {
    "collapsed": false
   },
   "outputs": [],
   "source": [
    "from IPython.core.display import HTML\n",
    "def css_styling():\n",
    "    styles = open(\"../styles/custom.css\", \"r\").read()\n",
    "    return HTML(styles)\n",
    "\n",
    "# Comment out next line and execute this cell to restore the default notebook style \n",
    "css_styling()"
   ]
  }
 ],
 "metadata": {
  "anaconda-cloud": {},
  "kernelspec": {
   "display_name": "Python [default]",
   "language": "python",
   "name": "python3"
  },
  "language_info": {
   "codemirror_mode": {
    "name": "ipython",
    "version": 3
   },
   "file_extension": ".py",
   "mimetype": "text/x-python",
   "name": "python",
   "nbconvert_exporter": "python",
   "pygments_lexer": "ipython3",
   "version": "3.5.2"
  }
 },
 "nbformat": 4,
 "nbformat_minor": 1
}
