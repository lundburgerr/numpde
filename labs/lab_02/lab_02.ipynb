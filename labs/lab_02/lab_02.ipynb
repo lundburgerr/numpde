{
 "cells": [
  {
   "cell_type": "markdown",
   "metadata": {},
   "source": [
    "# Homework 2"
   ]
  },
  {
   "cell_type": "markdown",
   "metadata": {},
   "source": [
    "##### Deadline for submission of your solutions is **28th of November**.\n",
    "\n",
    "* Same instructions as in Homework 1 apply here. \n",
    "$\\newcommand{\\dx}{\\,\\mathrm{d}x}$"
   ]
  },
  {
   "cell_type": "markdown",
   "metadata": {},
   "source": [
    "## Problem 1 (Finite Difference Method in 2D)"
   ]
  },
  {
   "cell_type": "markdown",
   "metadata": {},
   "source": [
    " **a)** Let $\\Omega = [0,1]\\times [0,1]$.\n",
    "For the functions $u_k(x,y) = \\sin(2 \\pi k x) \\sin(2 \\pi k y)$ with frequency $k \\in \\mathbb{N}$,\n",
    "compute the right-hand side $f$ and boundary data $g$\n",
    "such that $u_k$ satisfies the Poisson problem\n",
    "\\begin{align*}\n",
    "- \\Delta u_k  &= f \\quad \\text{in } \\Omega,\n",
    "\\\\\n",
    " u_k &= g \\quad \\text{on } \\partial \\Omega.\n",
    "\\end{align*}"
   ]
  },
  {
   "cell_type": "markdown",
   "metadata": {},
   "source": [
    "**b)** Based on the code snippets below, implement a finite difference scheme to solve this Poisson problem numerically. For the computational grid, assume equally spaced subdivisions in $x$ and $y$ direction, starting with $N=8$ subintervals. For $N = 8, 16, 32, 64$, compute and plot the finite difference solution $U$."
   ]
  },
  {
   "cell_type": "markdown",
   "metadata": {},
   "source": [
    "### Code Snippets"
   ]
  },
  {
   "cell_type": "markdown",
   "metadata": {},
   "source": [
    "As in Lab 1, places marked with $\\ldots$ need you attention and must be filled with proper code.\n",
    "\n",
    "We start with importing the necessary scientific libraries and define name aliases for them."
   ]
  },
  {
   "cell_type": "code",
   "execution_count": 12,
   "metadata": {
    "collapsed": true
   },
   "outputs": [],
   "source": [
    "# Arrary and stuff \n",
    "import numpy as np\n",
    "# Linear algebra solvers from scipy\n",
    "import scipy.linalg as la\n",
    "# Basic plotting routines from the matplotlib library \n",
    "import matplotlib.pyplot as plt\n",
    "# We also need access to the colormaps for 3D plotting\n",
    "from matplotlib import cm\n",
    "# For 3D plotting\n",
    "from mpl_toolkits.mplot3d import Axes3D"
   ]
  },
  {
   "cell_type": "markdown",
   "metadata": {},
   "source": [
    "Next, we define a surface plotting function."
   ]
  },
  {
   "cell_type": "code",
   "execution_count": 25,
   "metadata": {
    "collapsed": true
   },
   "outputs": [],
   "source": [
    "def plot2D(X, Y, Z, title=\"\"):\n",
    "    # Define a new figure with given size an\n",
    "    fig = plt.figure(figsize=(11, 7), dpi=100)\n",
    "    ax = fig.gca(projection='3d')\n",
    "    surf = ax.plot_surface(X, Y, Z,             \n",
    "                           rstride=1, cstride=1, # Sampling rates for the x and y input data\n",
    "                           cmap=cm.viridis)      # Use the new fancy colormap viridis\n",
    "    # Set initial view angle\n",
    "    ax.view_init(30, 225)\n",
    "    \n",
    "    # Set labels and show figure\n",
    "    ax.set_xlabel('$x$')\n",
    "    ax.set_ylabel('$y$')\n",
    "    ax.set_title(title)\n",
    "    plt.show()"
   ]
  },
  {
   "cell_type": "markdown",
   "metadata": {},
   "source": [
    "Now the real fun begins. We will implement our FDM in a function which takes the number of subintervals $N$ and the frequency $k$ as arguments. We include a description of the function (A \"docstring\") at the beginning of the function. To get a feeling for the various data structure we are going to use, it might be helpful to print out a few of them and to look them up in the numpy/scipy documentation while you implementing the scheme!\n",
    "\n",
    "In addition to the inbuilt documentation in the Spyder IDE, you can also look up things easily by scanning through the method/class index at\n",
    "https://docs.scipy.org/doc/numpy/genindex.html"
   ]
  },
  {
   "cell_type": "code",
   "execution_count": 21,
   "metadata": {
    "collapsed": false
   },
   "outputs": [
    {
     "ename": "SyntaxError",
     "evalue": "invalid syntax (<ipython-input-21-9487caaaa789>, line 70)",
     "output_type": "error",
     "traceback": [
      "\u001b[0;36m  File \u001b[0;32m\"<ipython-input-21-9487caaaa789>\"\u001b[0;36m, line \u001b[0;32m70\u001b[0m\n\u001b[0;31m    ....\u001b[0m\n\u001b[0m        ^\u001b[0m\n\u001b[0;31mSyntaxError\u001b[0m\u001b[0;31m:\u001b[0m invalid syntax\n"
     ]
    }
   ],
   "source": [
    "def fdm_poisson_2d_dense(N, k):\n",
    "    '''A simple finite difference solver in 2d using a full matrix representation.'''\n",
    "\n",
    "    # 1) Compute right hand side     \n",
    "    \n",
    "    # To define the grid we could use \"linspace\" as in Lab 1 to define subdivisions for the $x$ and $y$ axes.\n",
    "    # But to make plotting easy and to vectorize the evaluation of the right-hand side $f$, we do something more fancy.\n",
    "    # We define x and y coordinates for the grid using a \"sparse grid\" representation using the function 'ogrid'.\n",
    "    # (Read the documentation for 'ogrid'!). Unfortunately, ogrid does not include the interval endpoints by \n",
    "    # default, but according to the numpy documentation, you can achieve this by multiplying your sampling number by\n",
    "    # the pure imaginary number $i = \\sqrt{-1}$  which is written as \"1j\" in Python code.\n",
    "    # So simply speaking \"(N+1)*1j\" reads \"include the end points\" while (N+1) reads \"exclude the end points\".\n",
    "\n",
    "    x,y = np.ogrid[0:1:(N+1)*1j, 0:1:(N+1)*1j]\n",
    "    # Print x and y to see how they look like!\n",
    "    #print(x)\n",
    "    #print(y)\n",
    "    \n",
    "    # Evaluate f on the grid. \n",
    "    F_grid = np.sin(2*np.pi*k*x)*np.sin(2*np.pi*k*y)\n",
    "    \n",
    "    #You can print F_grid to verify that you got a 2 dimensional array\n",
    "    # print(F_grid)\n",
    "    \n",
    "    # You can also plot F_grid now if you want :)\n",
    "    # plot2D(x, y, F_grid, \"f\")\n",
    "    \n",
    "    # Now we define our rhs b by flattening out F, making it a 1 dimensional array of length (N+1)*(N+1). \n",
    "    F = F_grid.ravel()  \n",
    "    \n",
    "    # 2) Create Matrix entries for unknowns associated with inner grid points. \n",
    "    \n",
    "    # To translate the grid based double index into a proper numbering, we define a \n",
    "    # small mapping function, assuming a row-wise numbering. \n",
    "    # Drawing a picture of the grid and numbering the grid points in a row wise manner\n",
    "    # helps to understand this mapping!\n",
    "    def m(i,j):\n",
    "        return i*(N+1) + j\n",
    "    \n",
    "    # Total number of unknowns is M = (N+1)*(N+1)\n",
    "    M = (N+1)**2\n",
    "    \n",
    "    # Allocate a (full!) MxM matrix filled with zeros\n",
    "    A = ...\n",
    "    \n",
    "    # Meshsize h\n",
    "    h = 1/N\n",
    "    hh = h*h\n",
    "    \n",
    "    # Compute matrix A entries by iterating over the *inner* grid points first.\n",
    "    for i in range(1,N):      # i is the row number for the grid point\n",
    "        for j in range(1,N):  # j is the column number for the grid point\n",
    "            # Compute the index of the unknown at grid point (i,j). \n",
    "            # This is also the index of the row in matrix A we want to fill. \n",
    "            ri = m(i,j)       \n",
    "            A[ri,m(i,j)] = 4/hh # U_ij\n",
    "            A[ri,...] = -1/hh   # U_{i-1,j}\n",
    "            A[...,...] = ...    # U_{i+1,j}\n",
    "            A[...,...] = ...    # U_{i,j-1}\n",
    "            A[...,...] = ...    # U_{i,j+1}\n",
    "    \n",
    "    # 3) Incorporate boundary conditions\n",
    "    # Add boundary values related to unknowns from the first and last grid *ROW*\n",
    "    for i in [0, N]:\n",
    "        for j in range(0,N+1):\n",
    "            # Define row index related to unknown U_m(i,j)\n",
    "            ri = ...\n",
    "            A[...,...] = 1 # U_ij\n",
    "            F[...] = 0     # b_{i,j}\n",
    "    \n",
    "    # Add boundary values related to unknowns from the first and last grid *COLUMN*\n",
    "    ....\n",
    "    \n",
    "    # 4) Solve linear systems\n",
    "    # Solve linear algebra system \n",
    "    U = ...\n",
    "    \n",
    "    # Reshape the flat solution vector U to make it a grid function\n",
    "    U_grid = U.reshape((N+1,N+1))\n",
    "    \n",
    "    # Return solution and x and y grid points for easy plotting\n",
    "    return (x,y,U_grid)"
   ]
  },
  {
   "cell_type": "markdown",
   "metadata": {},
   "source": [
    "**c**) Use the method of manufactured solution together with the given analytical reference solution $u_k$ to compute the experimental order of convergence (EOC)\n",
    "for $N = 16, 32, 64$ using $\\max_{i} |U-u|$ as error measure. Summarize your results in a table. \n",
    "What convergence rate do you get? If you don't get an EOC very close to $2$, find the bugs in your code :)"
   ]
  },
  {
   "cell_type": "markdown",
   "metadata": {},
   "source": [
    "**d**) Test how large you can chose the resolution $N$ until either the problem takes too long (say 10 minutes) to compute or uses too much memory. Explain, what happens. Why does the problem\n",
    "scale so badly with respect to $N$?"
   ]
  },
  {
   "cell_type": "markdown",
   "metadata": {},
   "source": [
    "**e**) Based on your implementation from b), we now implement a finite difference using *sparse* matrices. Knowing the structure and entries of the matrix a priori, the most efficient \n",
    "realization would be based on (block) tridiagonal sparse matrices. \n",
    "But anticipating the forthcoming task of implementing schemes based on the finite element method, we will take a middle ground and simply switch to a flexible sparse matrix format which allows\n",
    "for minimal adjustments of you previous solver implementation.\n",
    "To this end you have incorporate the following code snippets into your code."
   ]
  },
  {
   "cell_type": "markdown",
   "metadata": {},
   "source": [
    "### Code Snippets"
   ]
  },
  {
   "cell_type": "markdown",
   "metadata": {},
   "source": [
    "Get access to sparse matrices and sparse solvers."
   ]
  },
  {
   "cell_type": "code",
   "execution_count": null,
   "metadata": {
    "collapsed": true
   },
   "outputs": [],
   "source": [
    "import scipy.sparse as sp\n",
    "from scipy.sparse.linalg.dsolve import spsolve"
   ]
  },
  {
   "cell_type": "markdown",
   "metadata": {},
   "source": [
    "Use a sparse matrix format for $A$, see https://docs.scipy.org/doc/scipy-0.18.1/reference/sparse.html\n",
    "for the many formats which are available. Here we use \"dictionary of keys\" based representation which\n",
    "is an empty matrix to begin with and which can easily filled with non-zero values at the appropriate\n",
    "places."
   ]
  },
  {
   "cell_type": "code",
   "execution_count": null,
   "metadata": {
    "collapsed": true
   },
   "outputs": [],
   "source": [
    "A = sp.dok_matrix((M, M))"
   ]
  },
  {
   "cell_type": "markdown",
   "metadata": {},
   "source": [
    "After creating the matrix we have to convert it to a different format, the so-called\n",
    "\"Compressed Sparse Row matrix\" representation, which is much more efficient when solving the system $A U = F$ with a sparse solver."
   ]
  },
  {
   "cell_type": "code",
   "execution_count": null,
   "metadata": {
    "collapsed": true
   },
   "outputs": [],
   "source": [
    "# Now convert A to format which is more efficient for solving\n",
    "A_csr = A.tocsr() \n",
    "U = spsolve(A_csr, F)"
   ]
  },
  {
   "cell_type": "markdown",
   "metadata": {},
   "source": [
    "**f**) Measure and compare the overall solution time for your two implementations 'fdm_poisson_2d_dense' and 'fdm_poisson_2d_sparse' by using the cell magic command %%timeit.\n",
    "Here is a simple example of its usage. Simply execute the next cell."
   ]
  },
  {
   "cell_type": "code",
   "execution_count": 41,
   "metadata": {
    "collapsed": false
   },
   "outputs": [
    {
     "name": "stdout",
     "output_type": "stream",
     "text": [
      "1 loop, best of 3: 749 ms per loop\n"
     ]
    }
   ],
   "source": [
    "%%timeit # Measure execution time for entire cell, has to be at the top of the cell.\n",
    "\n",
    "def compute_sum(N):\n",
    "    sum = 0\n",
    "    for i in range(0,N):\n",
    "        sum += i\n",
    "    return sum\n",
    "\n",
    "N = 10000000\n",
    "compute_sum(N)"
   ]
  },
  {
   "cell_type": "code",
   "execution_count": 42,
   "metadata": {
    "collapsed": false
   },
   "outputs": [
    {
     "name": "stdout",
     "output_type": "stream",
     "text": [
      "1 loop, best of 3: 740 ms per loop\n"
     ]
    }
   ],
   "source": [
    "# If you want to measure execution time for a single line write %timeit instead\n",
    "%timeit compute_sum(N)"
   ]
  },
  {
   "cell_type": "markdown",
   "metadata": {},
   "source": [
    "## Problem 2  (Ritz Galerkin Method)"
   ]
  },
  {
   "cell_type": "markdown",
   "metadata": {},
   "source": [
    "**a)**\n",
    "Using integration by parts, derive a weak formulation for the problem \n",
    "\\begin{align*}\n",
    "- (a(x)u(x)')' + c(x)u(x) = f \\quad \\text{in } I = (0,1)\n",
    "\\\\\n",
    "u(0) = g(0), \\quad u(1) = g(1),\n",
    "\\end{align*}\n",
    "for two smooth functions $a(x)$ and $c(x)$ satisfying $a(x) \\geqslant a_0 > 0$\n",
    "and $c(x) \\geqslant 0$, and a boundary function $g: \\{0,1\\} \\to \\mathbb{R}$.\n",
    "Note that the boundary values are not necessarily equal to $0$. Thus while the \n",
    "test functions $v$ are still supposed to be $0$ on the boundary of $I$, \n",
    "the definition of the function space for the solution/trial function $u$ needs to be adapted."
   ]
  },
  {
   "cell_type": "markdown",
   "metadata": {},
   "source": [
    "**b)** Recall that the Ritz-Galerkin method for numerically solving the two-point boundary value problem\n",
    "\\begin{align*}\n",
    "- u'' = f \\quad \\text{in } I = (0,1)\n",
    "\\\\\n",
    "u(0) = 0, \\quad u(1) = 0,\n",
    "\\end{align*}\n",
    "is to find $u_h$ in a suitable discrete, finite dimensional subspace \n",
    "$V_{0,h} \\subset V_0 = \\left\\{ v : \\| v\\|_{L^2(I)} + \\| v'\\|_{L^2(I)} < \\infty, v(0) = v(1) = 0 \\right \\}$\n",
    "such that for all $v \\in V_{0,h}$\n",
    "\\begin{align*}\n",
    " \\int_I u' v' \\dx = \\int_I f v \\dx. \n",
    "\\end{align*}\n",
    "Given basis functions $\\{\\phi_i\\}_{i=1}^N$ of $V_{0,h}$, show that the discrete weak formulation\n",
    "is equivalent to requiring that \n",
    "\\begin{align*}\n",
    " \\int_I u' \\phi_i' \\dx = \\int_I f \\phi_i \\dx, \\quad i =1,\\ldots,N. \n",
    "\\end{align*}\n",
    "holds."
   ]
  },
  {
   "cell_type": "markdown",
   "metadata": {},
   "source": [
    "**c)** Next, define the (inner) grid points $\\{x_i\\}_{i=1}^3 = \\{ 0.25, 0.5, 0.75 \\}$ for the\n",
    "interval $[0,1]$ and let $\\{\\phi_i\\}_{i=1}^3$ be the hat functions associated with \n",
    "$\\{x_i\\}_{i=1}^3$. Compute by hand the matrix $3\\times 3$ matrix $A = (a_{ij})$ whose entry are given by\n",
    "$$\n",
    "a_{i j} = \\int_0^1 \\phi_j' \\phi_i' \\dx \\quad i,j = 1,2,3.\n",
    "$$\n",
    "For the right-hand side $f(x) = x^2$ compute by hand the vector $F$ with\n",
    "$$\n",
    "F_i = \\int_0^1 f \\phi_i \\dx, \\quad i = 1, 2, 3\n",
    "$$\n",
    "\n",
    "Use the information from c) to find the finite element approximation $u_h(x) = \\sum_{i=1}^3 U_i \\phi(x)$ for the boundary value problem\n",
    "\\begin{gather}\n",
    "- u''(x) = x^2 \\quad x\\in (0,1),\n",
    "\\\\\n",
    "u(0) = u(1) = 0\n",
    "\\end{gather}\n",
    "by solving the linear algebra system $AU = b$."
   ]
  },
  {
   "cell_type": "markdown",
   "metadata": {},
   "source": [
    "**d)** (A glimpse at spectral methods)\n",
    "We consider the periodic boundary value problem \n",
    "\\begin{align*}\n",
    "- u'' = f \\quad \\text{in } I = (0,2\\pi)\n",
    "\\\\\n",
    "u(0) = u(2\\pi)\n",
    "\\end{align*}\n",
    "only assuming that the $u$ attains the same value on the left and right boundary point, but without knowing its actually value. Is that problem uniquely solvable?\n",
    "\n",
    "Next, we introduce the function space $V_N$ which is spanned by the (periodic) trigonometric functions\n",
    "$\\{\\cos(k x)\\}_{k=0}^N \\cup \\{ \\sin(k x)\\}_{k=1}^N$, so we have $2N + 1$ basis functions\n",
    "$\\{\\phi_i\\}_{i=0}^{2N+1}$.  Compute the matrix $A$ defined by $a_{i j} = \\int_0^1 \\phi_j' \\phi_i' \\dx$ for general $N$.\n",
    "(Hint: Either derive or look up integral formulas for integrals of the form $\\int_0^{2\\pi} cos(k x) sin(l x) dx$, $k,l \\in \\mathbb{N}$.\n",
    "The resulting matrix should be particularly simple."
   ]
  },
  {
   "cell_type": "markdown",
   "metadata": {},
   "source": [
    "## Problem 3 (Interpolation)\n",
    "\n",
    "**a)** For the interval $I = [-2,2] \\subset \\mathbb{R}$ and the three nodal point $\\{\\xi_i\\}_0^2 = \\{ -2, 0, 2\\}$, calculate by hand the Lagrange basis functions $\\{\\lambda_i(x)\\}_{i=0}^2$ of order $2$ satisfying \n",
    "\n",
    "$$\n",
    "\\lambda_i(\\xi_j) =\n",
    "\\begin{cases}\n",
    "1 &\\quad \\text{if } i=j\n",
    "\\\\\n",
    "0 &\\quad\\text{else}.\n",
    "\\end{cases}\n",
    "$$."
   ]
  },
  {
   "cell_type": "markdown",
   "metadata": {},
   "source": [
    "**b)** Next, given $N+1$ uniformly distributed\n",
    "nodes $\\{\\xi_i\\}_{i=1}^N$ on $[-2,2]$ with $\\xi_0 = -2$\n",
    "$\\xi_N = 2$, write a function which can compute and plot all Lagrange basis functions $\\{\\lambda_i\\}_{i=0}^N$. To make your live easy, use the interpolation functionality baked into the scipy python module, see code snippets below."
   ]
  },
  {
   "cell_type": "markdown",
   "metadata": {},
   "source": [
    "\n",
    "**c)** Experiment with you brand new function and see how the Lagrange basis functions look like when you increase the order $N$. In particular, provide separate figures for $N = 3,4, 7,8, 11, 12$, where each figure shows a plot of all basis function $\\{\\lambda_i\\}_{i=0}^N$ for that particular $N$ and the nodal point/nodal value pairs $\\{(\\xi_j,\\delta_{ij})\\}_{j=0}^N$.\n"
   ]
  },
  {
   "cell_type": "markdown",
   "metadata": {},
   "source": [
    "**d)** For the $f(x) = e^{-8x^2}$, compute the $N$th-order Lagrange polynom $\\pi^N f$ \n",
    "satisfying $(\\pi^N f)(\\xi_i) = f(\\xi_i)$ for $i = 0, \\ldots N$ and plot\n",
    "both the exact $f$ and its Lagrange interpolant $\\pi^N f$ for $N = 3,4,7,8,11,12$\n",
    "with one figure for each $N$.\n",
    "As before chose $I = [-2,2]$ and a uniform  nodes distribution which includes the \n",
    "end point of the $I$.\n",
    "What can you say about the maximum error\n",
    "$\n",
    "\\max_{x\\in [-2,2]} | \\pi^N f(x) - f(x)|\n",
    "$\n",
    "for increasning $N$?  Where does the error seem to concentrate?"
   ]
  },
  {
   "cell_type": "markdown",
   "metadata": {},
   "source": [
    "**e)** Now repeat the experiment d) and c), but this time use as interpolation nodes the Chebyshev nodes which are defined by\n",
    "$$\n",
    "\\xi_i = \\dfrac{a+b}{2} + \\dfrac{b - a}{2} \\cos\\left(\\tfrac{i}{N}\\pi\\right)  \n",
    "$$\n",
    "on a general interval $[a,b]$. The Chebyshev nodes are precisely the nodes, which minimizes\n",
    "the expression\n",
    "$$\n",
    "\\max_{x\\in[a,b]} |(x-\\xi_0)(x-\\xi_1)\\cdots(x - \\xi_{N-1})(x- \\xi_N))|\n",
    "$$\n",
    "which appeared in the error estimate of the Lagrange interpolation.\n",
    "Describe the main differences\n",
    "when using uniform node distribution compared to Chebyshev node distribution."
   ]
  },
  {
   "cell_type": "markdown",
   "metadata": {},
   "source": [
    "### Hints and Code Snippets\n"
   ]
  },
  {
   "cell_type": "markdown",
   "metadata": {},
   "source": [
    "Interpolation functionality can be found in the module scipy.interpolate module,\n",
    "see https://docs.scipy.org/doc/scipy-0.18.1/reference/interpolate.html\n",
    "and the short examples in the nice tutorial at \n",
    "http://www.scipy-lectures.org/intro/scipy.html#interpolation-scipy-interpolate"
   ]
  },
  {
   "cell_type": "code",
   "execution_count": null,
   "metadata": {
    "collapsed": true
   },
   "outputs": [],
   "source": [
    "import scipy.interpolate as ip"
   ]
  },
  {
   "cell_type": "markdown",
   "metadata": {},
   "source": [
    "Lagrange interpolation polynom can be computed like this."
   ]
  },
  {
   "cell_type": "code",
   "execution_count": 23,
   "metadata": {
    "collapsed": false
   },
   "outputs": [],
   "source": [
    "# x_nodes is a 1 dimensional array containing the nodal points\n",
    "# nodal_values is a 1 dimensional array containing the values of the\n",
    "# function to be interpolated at the nodal points\n",
    "L = ip.lagrange(x_nodes,nodal_values)"
   ]
  },
  {
   "cell_type": "markdown",
   "metadata": {},
   "source": [
    "Observe that you can compute the Lagrange basis functions $\\lambda_i$ associated\n",
    "with node $\\xi_i$ by simply passing a \"nodal_values\" array which is $1$ for index $i$ and $0$ otherwise."
   ]
  },
  {
   "cell_type": "markdown",
   "metadata": {},
   "source": [
    "There is also a scipy function which compute a continuous piecewise linear interpolation function for given nodes and nodal values."
   ]
  },
  {
   "cell_type": "code",
   "execution_count": null,
   "metadata": {
    "collapsed": true
   },
   "outputs": [],
   "source": [
    "f_inter = ip.interp1d(...,...)"
   ]
  },
  {
   "cell_type": "markdown",
   "metadata": {},
   "source": [
    "Finally, for the plotting the various interpolation polynoms and functions, you should use a much higher resolution/sampling rate, since the inbuilt plotting routines usually just do a simple piecewise interpolation between the given grid points and function values."
   ]
  },
  {
   "cell_type": "markdown",
   "metadata": {},
   "source": [
    "The following cell loads non-default styles for the notebook."
   ]
  },
  {
   "cell_type": "code",
   "execution_count": 24,
   "metadata": {
    "collapsed": false
   },
   "outputs": [
    {
     "data": {
      "text/html": [
       "<link href='http://fonts.googleapis.com/css?family=Alegreya+Sans:100,300,400,500,700,800,900,100italic,300italic,400italic,500italic,700italic,800italic,900italic' rel='stylesheet' type='text/css'> <link href='http://fonts.googleapis.com/css?family=Arvo:400,700,400italic' rel='stylesheet' type='text/css'> <link href=\"https://fonts.googleapis.com/css?family=News+Cycle\" rel=\"stylesheet\"> <link href='http://fonts.googleapis.com/css?family=Nixie+One' rel='stylesheet' type='text/css'> <link href='http://fonts.googleapis.com/css?family=PT+Mono' rel='stylesheet' type='text/css'> <link href='http://fonts.googleapis.com/css?family=Shadows+Into+Light' rel='stylesheet' type='text/css'> <link href=\"https://fonts.googleapis.com/css?family=Source+Code+Pro\" rel=\"stylesheet\"> <style> @font-face {\n",
       "    /*font-family: \"Computer Modern\";*/\n",
       "    /*src: url('http://mirrors.ctan.org/fonts/cm-unicode/fonts/otf/cmunss.otf');*/\n",
       "    font-family: 'News Cycle', sans-serif;\n",
       "}\n",
       "\n",
       "\n",
       "/* main background */\n",
       "\n",
       "\n",
       "/*#notebook_panel { \n",
       "        background: #C9D4E2;\n",
       "    }*/\n",
       "\n",
       "div.cell {\n",
       "    /*max-width:600px;*/\n",
       "    /*margin-left:16% !important;*/\n",
       "    /*margin-right:auto;*/\n",
       "}\n",
       "\n",
       "div.text_cell {\n",
       "    max-width: 120ex;\n",
       "    /* instead of 100%, */\n",
       "}\n",
       "\n",
       "div.text_cell_render {\n",
       "    font-family: 'Alegreya Sans', Computer Modern, \"Helvetica Neue\", Arial, Helvetica, Geneva,   sans-serif;\n",
       "    line-height: 135%;\n",
       "    /*font-size:    45pt;*/\n",
       "    font-size: 130%;\n",
       "    /*width:600px;*/\n",
       "    /*margin-left:auto;*/\n",
       "    /*margin-right:auto;*/\n",
       "}\n",
       "\n",
       ".CodeMirror {\n",
       "    /*font-family: 'Source Code Pro', monospace;*/\n",
       "    /*font-style: italic;*/\n",
       "    /*font-weight: bold;*/\n",
       "    /*font-size: 120%;*/\n",
       "}\n",
       "\n",
       "\n",
       "/*.prompt{\n",
       "        display: None;\n",
       "    }*/\n",
       "\n",
       ".text_cell_render h1 {\n",
       "    font-family: 'Nixie One', serifV;\n",
       "    font-style: regular;\n",
       "    font-weight: 400;\n",
       "    font-size: 45pt;\n",
       "    line-height: 100%;\n",
       "        color: #497BB9;    \n",
       "    /*color: #5889C5;*/\n",
       "    /*color: rgb(0, 51, 102);*/\n",
       "    /*font-weight: 200;*/\n",
       "    /*font-size: 50pt;*/\n",
       "    margin-bottom: 0.5em;\n",
       "    margin-top: 0.5em;\n",
       "    display: block;\n",
       "}\n",
       "\n",
       ".text_cell_render h2 {\n",
       "    font-family: 'Nixie One', serif;\n",
       "    font-weight: 400;\n",
       "    font-size: 30pt;\n",
       "    line-height: 100%;\n",
       "    /*color: rgb(0,51,102);*/\n",
       "    color: #497BB9;    \n",
       "    margin-bottom: 0.1em;\n",
       "    margin-top: 0.3em;\n",
       "    display: block;\n",
       "}\t\n",
       "\n",
       ".text_cell_render h3 {\n",
       "    font-family: 'Nixie One', serif;\n",
       "    margin-top:16px;\n",
       "    font-size: 22pt;\n",
       "    font-weight: 600;\n",
       "    margin-bottom: 3px;\n",
       "    font-style: regular;\n",
       "    color: rgb(102,102,0);\n",
       "}\n",
       "\n",
       ".text_cell_render h4 {    /*Use this for captions*/\n",
       "    font-family: 'Nixie One', serif;\n",
       "    font-size: 14pt;\n",
       "    text-align: center;\n",
       "    margin-top: 0em;\n",
       "    margin-bottom: 2em;\n",
       "    font-style: regular;\n",
       "}\n",
       "\n",
       ".text_cell_render h5 {  /*Use this for small titles*/\n",
       "    font-family: 'Nixie One', sans-serif;\n",
       "    font-weight: 400;\n",
       "    font-size: 16pt;\n",
       "    color: rgb(163,0,0);\n",
       "    /*color: #5889C5;*/\n",
       "    /*margin-bottom: .5em;\n",
       "    margin-top: 0.5em;*/\n",
       "    font-style: italic;\n",
       "    margin-bottom: .1em;\n",
       "    margin-top: 0.8em;\n",
       "    display: block;\n",
       "}\n",
       "\n",
       ".warning {\n",
       "    color: rgb( 240, 20, 20)\n",
       "}\n",
       "\n",
       "</style> \n",
       "<script>\n",
       " MathJax.Hub.Config( {\n",
       "    TeX: {\n",
       "        Macros: {\n",
       "            RR: \"{\\\\mathbb{R}}\",\n",
       "             mcO: \"{\\\\mathcal{O}}\"\n",
       "        },\n",
       "        equationNumbers: { autoNumber: \"AMS\" },\n",
       "        extensions: [\"AMSmath.js\", \"begingroup.js\"] \n",
       "    },\n",
       "    tex2jax: {\n",
       "        inlineMath: [ ['$', '$'], [\"\\\\(\", \"\\\\)\"]], displayMath: [ ['$$', '$$'], [\"\\\\[\", \"\\\\]\"]]\n",
       "    },\n",
       "    displayAlign: 'center', // Change this to 'center' to center equations.\n",
       "    \"HTML-CSS\": {\n",
       "        styles: {\n",
       "            '.MathJax_Display': {\n",
       "                \"margin\": 4\n",
       "            }\n",
       "        }\n",
       "    }\n",
       "}\n",
       ");\n",
       "</script>"
      ],
      "text/plain": [
       "<IPython.core.display.HTML object>"
      ]
     },
     "execution_count": 24,
     "metadata": {},
     "output_type": "execute_result"
    }
   ],
   "source": [
    "from IPython.core.display import HTML\n",
    "def css_styling():\n",
    "    styles = open(\"../styles/custom.css\", \"r\").read()\n",
    "    return HTML(styles)\n",
    "\n",
    "# Comment out next line and execute this cell to restore the default notebook style \n",
    "css_styling()"
   ]
  }
 ],
 "metadata": {
  "anaconda-cloud": {},
  "kernelspec": {
   "display_name": "Python [default]",
   "language": "python",
   "name": "python3"
  },
  "language_info": {
   "codemirror_mode": {
    "name": "ipython",
    "version": 3
   },
   "file_extension": ".py",
   "mimetype": "text/x-python",
   "name": "python",
   "nbconvert_exporter": "python",
   "pygments_lexer": "ipython3",
   "version": "3.5.2"
  }
 },
 "nbformat": 4,
 "nbformat_minor": 1
}
