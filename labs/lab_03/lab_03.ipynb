{
 "cells": [
  {
   "cell_type": "markdown",
   "metadata": {},
   "source": [
    "# Homework 3"
   ]
  },
  {
   "cell_type": "markdown",
   "metadata": {},
   "source": [
    "##### Deadline for submission of your solutions is **6th of December**.\n",
    "\n",
    "* Same instructions as in Homework 1 apply here. \n",
    "$\\newcommand{\\dx}{\\,\\mathrm{d}x}$"
   ]
  },
  {
   "cell_type": "markdown",
   "metadata": {},
   "source": [
    "## Problem 1 (Quadrature Rules)\n",
    "\n",
    "**a)** Write computer functions which compute the integral $\\int_a^b f(x) \\dx$ \n",
    "for a given $f$ and interval $[a,b]$ using the mid-point, trapezoidal and Simpson's rule.\n",
    "\n",
    "**b)** For the monomial functions $p_i(x) = x^i$ and $i = 1,2,3$,\n",
    "compute the integral $\\int_0^1 p_i(x) \\dx$ numerically using all three quadrature schemes.\n",
    "Compute the exact integrals analytically and compute the quadrature error\n",
    "$$\n",
    "\\text{err}(p_i, Q) = \\left| \\int_I p_i \\dx - Q(p_i, I) \\right|\n",
    "$$\n",
    "\n",
    "for each combination of quadrature rule and monomial. Summarize your result in\n",
    "a table (quadrature rules as column header, monomials as row headers).\n",
    "\n",
    "**c)** Divide $[0,1]$ into 2, 4 and then 8 equally spaced subintervals.\n",
    "For those combinations of quadrature rules/monomials where the quadrature error does not vanish, compute a better approximation of the integral $\\int_0^1 p_i(x) \\dx$\n",
    "by applying the corresponding quadrature rule separately on each of the 2, 4, 8 subintervals.\n",
    "What experimental order of convergence do you observe for the quadrature rule/monomial pairs?"
   ]
  },
  {
   "cell_type": "markdown",
   "metadata": {},
   "source": [
    "## Problem 2 (Piecewise Polynomial Approximation)"
   ]
  },
  {
   "cell_type": "markdown",
   "metadata": {},
   "source": [
    "Let $0 = x_0 < x_1 < x_2 < \\ldots < x_N = 1$ be a partition of the interval\n",
    "$0\\leq x\\leq 1$ into $N$ subintervals of equal length $h$.  Moreover,\n",
    "let $\\{ \\varphi_j\\}_{j=0}^N$ be the set of hat basis functions of $V_h$\n",
    "associated with the $N+1$ nodes $x_j$, $j = 0,1\\ldots, N$, such that\n",
    "\\begin{align}\n",
    "  \\varphi_i(x_j) =\n",
    "  \\left \\{ \n",
    "  \\begin{array}{l}\n",
    "    1, \\quad \\mbox{if } i = j, \\\\\n",
    "    0, \\quad \\mbox{if } i \\neq j.\n",
    "  \\end{array}\n",
    "  \\right .\n",
    "\\end{align}\n",
    "The explicit expression for a hat function $\\varphi_i(x)$ is given by \n",
    "\\begin{align} \n",
    "  \\varphi_i(x) =\n",
    "  \\left\\{\n",
    "  \\begin{array}{ll}\n",
    "    (x-x_{i-1})/h, &\\mbox{if } x_{i-1} \\leq x \\leq x_i,\\\\\n",
    "    (x_{i+1}-x)/h, & \\mbox{if } x_i \\leq x \\leq x_{i+1},\\\\\n",
    "    0, & \\mbox{otherwise.} \n",
    "  \\end{array}\n",
    "  \\right. \n",
    "\\end{align}"
   ]
  },
  {
   "cell_type": "markdown",
   "metadata": {},
   "source": [
    "**a)** Write a (short) Python function ${\\texttt{hatfun(xn,i, x)}}$, that computes and returns the hat functions $\\varphi_i$, $i=0,1,\\dots,N$, where ${\\texttt{xn}}$ is a vector containing the $N+1$ nodal points,\n",
    "and $\\texttt{x}$ is an array of points you want to evaluate hat function\n",
    "$\\varphi_i$ at. Then, plot $\\varphi_2$ and $\\varphi_N$ in partitions with $N=4,7,10$. (Use a finer sampling of $[0,1]$ than given by the nodal points for the plotting!)"
   ]
  },
  {
   "cell_type": "markdown",
   "metadata": {},
   "source": [
    "### Code Snippet"
   ]
  },
  {
   "cell_type": "code",
   "execution_count": 1,
   "metadata": {
    "collapsed": true
   },
   "outputs": [],
   "source": [
    "import numpy as np\n",
    "import matplotlib.pyplot as plt"
   ]
  },
  {
   "cell_type": "code",
   "execution_count": null,
   "metadata": {
    "collapsed": true
   },
   "outputs": [],
   "source": [
    "def hatfun_simple(xn, i, x):\n",
    "    y = np.zeros(x.size)\n",
    "    N = xn.size-1\n",
    "    for l in range(0, y.size):\n",
    "        # Left boundary\n",
    "        if i == 0:\n",
    "            if  xn[0] <= x[l] and x[l] <= xn[1]:\n",
    "                y[l] = (xn[1] - x[l])/(xn[1] - xn[0])\n",
    "        # Right boundar\n",
    "        elif i == N:\n",
    "            if  ...:\n",
    "                y[l] = ...\n",
    "        # Interior point\n",
    "        elif xn[i-1] <= x[l] and x[l] <= xn[i+1]:\n",
    "            if  ... :\n",
    "                y[l] = ...\n",
    "            else:\n",
    "                y[l] = ...\n",
    "    return y\n",
    "\n",
    "# Alternativly you can try out to use np.piecewise \n",
    "# with anonymous lambda functios (read up documentation on np.piecewise)\n",
    "def hatfun(xn, i, x):\n",
    "    N = len(xn) - 1\n",
    "    if i == 0:\n",
    "        return np.piecewise(x, \n",
    "                            [(xn[0] <= x) & (x <= xn[1])], \n",
    "                            [lambda x: (xn[1] - x)/(xn[1] - xn[0]), 0])\n",
    "    elif i == N:     \n",
    "        return np.piecewise(...)\n",
    "    else:\n",
    "        return np.piecewise(...)"
   ]
  },
  {
   "cell_type": "markdown",
   "metadata": {},
   "source": [
    "**b**) Write a Python script ${\\texttt { interp1d(f, xn, x)}}$, that computes the linear interpolant $\\pi f_k\\in V_h$, $k=1,2,3$ of \n",
    "\n",
    "* $f_1(x)=x\\sin (3\\pi x)$\n",
    "* $f_2(x)=2-10x$\n",
    "* $f_3(x)=x(1-x)$\n",
    "\n",
    "by using your function ${\\texttt {hatfun}}$. \n",
    "\n",
    "Hint: Recall that the interpolant is defined by\n",
    "$$\n",
    "\\pi f(x) = \\sum_{i=0}^N f(x_i) \\varphi_i(x)\n",
    "$$\n",
    "Compute the error in the numerical solution using the $L^2$-norm and present the results in Log-Log plots (error versus $h$) using partitions with $N=2^2,2^3,...,2^6$.  Show that the estimate \n",
    "$$\n",
    "\\| f - \\pi f \\|_{L^2(I)}^2 \\leqslant C \\sum_{i=1}^N h_i^4 \\| f'' \\|_{L^2(I_i)}^2\n",
    "$$\n",
    "is satisfied for all cases. \n",
    "\n",
    "*Hint*: Use the code for the Simpson's below to compute the $L^2$-norm per element."
   ]
  },
  {
   "cell_type": "markdown",
   "metadata": {},
   "source": [
    "**c)** Write a new script ${\\texttt {AssembleMassMatrix1D(x)}}$ that computes the mass matrix by studying section 1.5.1 in the book and the lecture notes. \n",
    "\n",
    "*Hint*: You can reuse much of the code snippets for the finite element solver you are asked to implement in Problem 3.\n",
    "\n",
    "**d)** Write a corresponding function $\\texttt{AssembleLoadVector(x,f)}$ which computes \n",
    "the load vector for a given function $f$. Make sure that you can easily switch out the quadrature\n",
    "rule to approximate the integrals $\\int_{I} f \\varphi_i \\dx$\n",
    "\n",
    "**e)** Compute the $L^2$-projection $P_h f\\in V_h$ of $f_1,\\,f_2$ and $f_3$ from b) using the\n",
    "trapezoidal rule to compute load vector. Is the estimate (1.54) in Theorem 1.2 is satisfied for all cases?\n",
    "\n",
    "**f)** Repeat the numerical study from e), but this time using the Simpson's rule to compute the load vector. "
   ]
  },
  {
   "cell_type": "markdown",
   "metadata": {},
   "source": [
    "## Problem 3 (A 1D Finite Element Solver)\n",
    "\n",
    "**a**) For $u(x) = x + \\cos(2\\pi x)$, compute a right-hand side $f$ and boundary values $g_R$, $g_N$\n",
    "such that $u(x)$ solves the two-point boundary value problem\n",
    "\\begin{gather}\n",
    "-u''= f, \\quad 0<x<1, \n",
    "\\\\\n",
    "-u'(0)=g_N(0), \\quad u'(1)= (g_R(1) - u(1))\n",
    "\\end{gather}\n",
    "a Neumann boundary condition on the left end point and a Robin boundary condition on the right end point."
   ]
  },
  {
   "cell_type": "markdown",
   "metadata": {},
   "source": [
    "** b) ** Implement a finite element solver for this two-point boundary problem as outlined in the lecture notes.\n",
    "Use uniform meshes with $h=1/N$ for $N = 4, 8, 16, 32, 64, 128$ and\n",
    "compare the numerical solution $u_h$ with the exact solution $u(x)$\n",
    "by plotting $u_h$ for $N = 4, 8, 16, 128$ and $u$ into the same figure."
   ]
  },
  {
   "cell_type": "markdown",
   "metadata": {},
   "source": [
    "** c) ** Check that for the given $N$ in b), $u_h$ converge to $u$ in the norms\n",
    "\n",
    "* a) The maximum norm \n",
    "* b)\n",
    "The energy norm  $\\|u\\|_a^2=\\int_0^1 u'(x)^2\\,dx$ (Note that the energy norm is problem dependent!)\n",
    "* c) The $L^2$-norm (compute first $P_h u$ and then $\\|P_h u-u_h\\|_{L^2(I)}$)\n",
    "\n",
    "Compute the error in the numerical solution using the norms above and present the results in Log-Log plots (error versus $h$).  \n",
    "\n",
    "*Hint*: Show that  $\\|u-u_h\\|_E^2=\\|u'\\|^2-\\|u_h'\\|^2$, where $u$ is the exact solution and $u_h$ is the finite element approximation. "
   ]
  },
  {
   "cell_type": "markdown",
   "metadata": {},
   "source": [
    "**d**) Use the exact solution $u$ defined in a) and compute the exact\n",
    "right-hand side $f$,\n",
    "Dirchlet Boundary data $g_D$ and Robin boundary data $g_R$ such that $u$ satifies the two-point boundary\n",
    "value problem\n",
    "\\begin{gather}\n",
    "-(au')'= f, \\quad 0<x<1, \n",
    "\\\\\n",
    "u(0)=g_D(0), \\quad a(1)u'(1)= \\kappa(1)(g_R(1) - u(1))\n",
    "\\end{gather}\n",
    "with coefficients $a(x) = 2 +  \\sin(2\\pi x)$, $\\kappa(x) = 2$. \n",
    "Adapt your finite element solver to incoporate the variable coefficients $a(x)$, $\\kappa(x)$ and the Dirichlet boundary condition on the left end point. Compute and plot the solution $u_h$ for $N = 4, 8, 16, 128$. "
   ]
  },
  {
   "cell_type": "markdown",
   "metadata": {},
   "source": [
    "### Code Snippets"
   ]
  },
  {
   "cell_type": "code",
   "execution_count": null,
   "metadata": {
    "collapsed": true
   },
   "outputs": [],
   "source": [
    "# Implememt assemble allowing for general coefficents a, kappa \n",
    "def AssembleStiffnessMatrix1D(x, a, kappa):\n",
    "    # Number of intervals\n",
    "    N = x.size-1\n",
    "    # 1) Allocate and initiate matrix\n",
    "    A = ...\n",
    "\n",
    "    # 2) Compute volume contributions by iterating over \n",
    "    #    intervals I_1 to I_N:\n",
    "    for i in range(1,N+1):\n",
    "        # Mesh  size\n",
    "        h = ...\n",
    "        # Mid point\n",
    "        m = ...\n",
    "        # Compute local stiffness matrix\n",
    "        A_loc = ...*np.array([[1, -1],[-1, 1]])\n",
    "        # Write local matrix into global\n",
    "        A[i-1, i-1] += A_loc[0, 0]\n",
    "        # Add three more matrix entries\n",
    "        ...\n",
    "        ...\n",
    "        ...\n",
    "    \n",
    "    # 3) Compute natural boundary contributions\n",
    "    # Add Robin on the right\n",
    "    A[N, N] += ...\n",
    "    \n",
    "    # 4) Modify rows which corresponds to Dirichlet boundary condition \n",
    "\n",
    "    return A"
   ]
  },
  {
   "cell_type": "code",
   "execution_count": null,
   "metadata": {
    "collapsed": true
   },
   "outputs": [],
   "source": [
    "def AssembleLoadVector1D(x, f, k, g_D, g_N, g_R):\n",
    "    # Number of intervals\n",
    "    N = ...\n",
    "    # 1) Allocate and initiate global load vector\n",
    "    b = ...\n",
    "    # 2) Compute volume contributions by iterating over intervals \n",
    "    #    I_1 to I_N:\n",
    "    for i in range(1,N+1):\n",
    "        # Mesh  size\n",
    "        h = ...\n",
    "        # Element load vector\n",
    "        b_loc = np.zeros(2)\n",
    "        # Apply quadrature rule to int f phi_{i-1} and int f phi_{i}\n",
    "        # Trapezoidal\n",
    "        b_loc[0] = f(x[i-1])*h/2\n",
    "        b_loc[1] = ...\n",
    "        # Simpson\n",
    "        # m = ...\n",
    "        # b_loc[0] = ...\n",
    "        # b_loc[1] = ...\n",
    "        \n",
    "        # Add to global vector\n",
    "        b[i-1] += ...\n",
    "        b[i] += ...\n",
    "\n",
    "    # 3) Incorporate boundary values e.g\n",
    "    # Neumann\n",
    "    b[0] += g_N(0)\n",
    "    # Dirichlet\n",
    "    #b[0]\n",
    "    # Robin\n",
    "    b[N] += ...\n",
    "\n",
    "    return b"
   ]
  },
  {
   "cell_type": "code",
   "execution_count": 4,
   "metadata": {
    "collapsed": false
   },
   "outputs": [
    {
     "data": {
      "text/html": [
       "<link href='http://fonts.googleapis.com/css?family=Alegreya+Sans:100,300,400,500,700,800,900,100italic,300italic,400italic,500italic,700italic,800italic,900italic' rel='stylesheet' type='text/css'> <link href='http://fonts.googleapis.com/css?family=Arvo:400,700,400italic' rel='stylesheet' type='text/css'> <link href=\"https://fonts.googleapis.com/css?family=News+Cycle\" rel=\"stylesheet\"> <link href='http://fonts.googleapis.com/css?family=Nixie+One' rel='stylesheet' type='text/css'> <link href='http://fonts.googleapis.com/css?family=PT+Mono' rel='stylesheet' type='text/css'> <link href='http://fonts.googleapis.com/css?family=Shadows+Into+Light' rel='stylesheet' type='text/css'> <link href=\"https://fonts.googleapis.com/css?family=Source+Code+Pro\" rel=\"stylesheet\"> <style> @font-face {\n",
       "    /*font-family: \"Computer Modern\";*/\n",
       "    /*src: url('http://mirrors.ctan.org/fonts/cm-unicode/fonts/otf/cmunss.otf');*/\n",
       "    font-family: 'News Cycle', sans-serif;\n",
       "}\n",
       "\n",
       "\n",
       "/* main background */\n",
       "\n",
       "\n",
       "/*#notebook_panel { \n",
       "        background: #C9D4E2;\n",
       "    }*/\n",
       "\n",
       "div.cell {\n",
       "    /*max-width:600px;*/\n",
       "    /*margin-left:16% !important;*/\n",
       "    /*margin-right:auto;*/\n",
       "}\n",
       "\n",
       "div.text_cell {\n",
       "    max-width: 120ex;\n",
       "    /* instead of 100%, */\n",
       "}\n",
       "\n",
       "div.text_cell_render {\n",
       "    font-family: 'Alegreya Sans', Computer Modern, \"Helvetica Neue\", Arial, Helvetica, Geneva,   sans-serif;\n",
       "    line-height: 135%;\n",
       "    /*font-size:    45pt;*/\n",
       "    font-size: 130%;\n",
       "    /*width:600px;*/\n",
       "    /*margin-left:auto;*/\n",
       "    /*margin-right:auto;*/\n",
       "}\n",
       "\n",
       ".CodeMirror {\n",
       "    font-family: 'Source Code Pro', monospace;\n",
       "    /*font-style: italic;*/\n",
       "    /*font-weight: bold;*/\n",
       "    /*font-size: 120%;*/\n",
       "}\n",
       "\n",
       "\n",
       "/*.prompt{\n",
       "        display: None;\n",
       "    }*/\n",
       "\n",
       ".text_cell_render h1 {\n",
       "    font-family: 'Nixie One', serifV;\n",
       "    font-style: regular;\n",
       "    font-weight: 400;\n",
       "    font-size: 45pt;\n",
       "    line-height: 100%;\n",
       "        color: #497BB9;    \n",
       "    /*color: #5889C5;*/\n",
       "    /*color: rgb(0, 51, 102);*/\n",
       "    /*font-weight: 200;*/\n",
       "    /*font-size: 50pt;*/\n",
       "    margin-bottom: 0.5em;\n",
       "    margin-top: 0.5em;\n",
       "    display: block;\n",
       "}\n",
       "\n",
       ".text_cell_render h2 {\n",
       "    font-family: 'Nixie One', serif;\n",
       "    font-weight: 400;\n",
       "    font-size: 30pt;\n",
       "    line-height: 100%;\n",
       "    /*color: rgb(0,51,102);*/\n",
       "    color: #497BB9;    \n",
       "    margin-bottom: 0.1em;\n",
       "    margin-top: 0.3em;\n",
       "    display: block;\n",
       "}\t\n",
       "\n",
       ".text_cell_render h3 {\n",
       "    font-family: 'Nixie One', serif;\n",
       "    margin-top:16px;\n",
       "    font-size: 22pt;\n",
       "    font-weight: 600;\n",
       "    margin-bottom: 3px;\n",
       "    font-style: regular;\n",
       "    color: rgb(102,102,0);\n",
       "}\n",
       "\n",
       ".text_cell_render h4 {    /*Use this for captions*/\n",
       "    font-family: 'Nixie One', serif;\n",
       "    font-size: 14pt;\n",
       "    text-align: center;\n",
       "    margin-top: 0em;\n",
       "    margin-bottom: 2em;\n",
       "    font-style: regular;\n",
       "}\n",
       "\n",
       ".text_cell_render h5 {  /*Use this for small titles*/\n",
       "    font-family: 'Nixie One', sans-serif;\n",
       "    font-weight: 400;\n",
       "    font-size: 16pt;\n",
       "    color: rgb(163,0,0);\n",
       "    /*color: #5889C5;*/\n",
       "    /*margin-bottom: .5em;\n",
       "    margin-top: 0.5em;*/\n",
       "    font-style: italic;\n",
       "    margin-bottom: .1em;\n",
       "    margin-top: 0.8em;\n",
       "    display: block;\n",
       "}\n",
       "\n",
       ".warning {\n",
       "    color: rgb( 240, 20, 20)\n",
       "}\n",
       "\n",
       "</style> \n",
       "<script>\n",
       " MathJax.Hub.Config( {\n",
       "    TeX: {\n",
       "        Macros: {\n",
       "            RR: \"{\\\\mathbb{R}}\",\n",
       "             mcO: \"{\\\\mathcal{O}}\"\n",
       "        },\n",
       "        equationNumbers: { autoNumber: \"AMS\" },\n",
       "        extensions: [\"AMSmath.js\", \"begingroup.js\"] \n",
       "    },\n",
       "    tex2jax: {\n",
       "        inlineMath: [ ['$', '$'], [\"\\\\(\", \"\\\\)\"]], displayMath: [ ['$$', '$$'], [\"\\\\[\", \"\\\\]\"]]\n",
       "    },\n",
       "    displayAlign: 'center', // Change this to 'center' to center equations.\n",
       "    \"HTML-CSS\": {\n",
       "        styles: {\n",
       "            '.MathJax_Display': {\n",
       "                \"margin\": 4\n",
       "            }\n",
       "        }\n",
       "    }\n",
       "}\n",
       ");\n",
       "</script>"
      ],
      "text/plain": [
       "<IPython.core.display.HTML object>"
      ]
     },
     "execution_count": 4,
     "metadata": {},
     "output_type": "execute_result"
    }
   ],
   "source": [
    "from IPython.core.display import HTML\n",
    "def css_styling():\n",
    "    styles = open(\"../styles/custom.css\", \"r\").read()\n",
    "    #styles = open(\"../styles/numericalmoocstyle.css\", \"r\").read()\n",
    "    return HTML(styles)\n",
    "\n",
    "# Comment out next line and execute this cell to restore the default notebook style. \n",
    "css_styling()"
   ]
  }
 ],
 "metadata": {
  "anaconda-cloud": {},
  "kernelspec": {
   "display_name": "Python [default]",
   "language": "python",
   "name": "python3"
  },
  "language_info": {
   "codemirror_mode": {
    "name": "ipython",
    "version": 3
   },
   "file_extension": ".py",
   "mimetype": "text/x-python",
   "name": "python",
   "nbconvert_exporter": "python",
   "pygments_lexer": "ipython3",
   "version": "3.5.2"
  }
 },
 "nbformat": 4,
 "nbformat_minor": 1
}
