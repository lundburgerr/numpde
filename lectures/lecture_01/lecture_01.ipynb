{
 "cells": [
  {
   "cell_type": "markdown",
   "metadata": {
    "slideshow": {
     "slide_type": "slide"
    }
   },
   "source": [
    "# Lecture 1.  Course Introduction \n",
    "\n",
    "(First, the boring but important adminstrative stuff!)\n",
    "\n",
    "### Teachers \n",
    "<table>\n",
    "<tr>\n",
    "<td>\n",
    "<b>\n",
    "Teacher\n",
    "</b>\n",
    "</td>\n",
    "<td>\n",
    "<b>\n",
    "Teacher Assistant\n",
    "</b>\n",
    "</td>\n",
    "</tr>\n",
    "<tr><td><img src='http://www.math.umu.se/DownloadAsset.action?contentId=247518&languageId=3&assetKey=massing_andre_3479_150211_mpn_w' height=\"100\"></td><td><img src='http://www.math.umu.se/DownloadAsset.action?contentId=212493&languageId=3&assetKey=carlos_juan_7280_130313_mpn_w' height=\"100\"></td></tr>\n",
    "<tr>\n",
    "<td>\n",
    "André Massing\n",
    "<br>\n",
    "andre.massing@umu.se\n",
    "<br>\n",
    "</td>\n",
    "<td>\n",
    "Juan Carlos Araujo-Cabarcas\n",
    "<br>\n",
    "juan.araujo@umu.se\n",
    "</td>\n",
    "</tr>\n",
    "</table>"
   ]
  },
  {
   "cell_type": "markdown",
   "metadata": {
    "slideshow": {
     "slide_type": "slide"
    }
   },
   "source": [
    "### Important dates \n",
    "\n",
    "+ **January 2, 2017**: Last day for registration to the exam\n",
    "+ **January 12, 2017**: Examination\n",
    "+ **January 15, 2017** Deadline for submission of last lab report\n",
    "+ **January 29, 2016** Deadline for resubmission of last lab report\n",
    "+ **Februrary 15, 2017**: Last day for registration to the re-exam\n",
    "+ **February 25, 2017**: Reexamination\n",
    "+ Registration to exam always at least **10** days prior to exam day  "
   ]
  },
  {
   "cell_type": "markdown",
   "metadata": {
    "nbpresent": {
     "id": "11407530-2b53-4745-aa4d-25c0566eae00"
    },
    "slideshow": {
     "slide_type": "fragment"
    }
   },
   "source": [
    "### Overall organization\n",
    "* 18 Lectures in total\n",
    "* Two last lectures in week 2: Revision of important concepts, Q&A answers\n",
    "* 5 Labs consisting of theoretical and practical problems\n",
    "    + Practical problems can be solved in either Matlab, [Octave](https://www.gnu.org/software/octave/) or \n",
    "    [Python](https://www.python.org/)\n",
    "* 3 half-day lab reservations a week, 2 of them will be supervised by Juan Carlos. \n",
    "* Live demos and example code in the lectures will use python packages from [SciPy ecosystem](https://www.scipy.org/)\n",
    "and presented using Jupyter/IPython notebooks.\n",
    "* A crash course guiding you into the scientific Python world will be given in one of the supervised labs.\n",
    "  "
   ]
  },
  {
   "cell_type": "code",
   "execution_count": 1,
   "metadata": {
    "collapsed": false,
    "nbpresent": {
     "id": "cf96d617-89b2-444c-9530-ca2bc13b69fc"
    },
    "slideshow": {
     "slide_type": "slide"
    }
   },
   "outputs": [
    {
     "data": {
      "text/html": [
       "<iframe src=\"https://se.timeedit.net/web/umu/db1/public1/riq53Q03621Z6YQy7Q98Z6q667Z085087Y50Y0gQ00ogZ5QXQ6o.html\" height=600 width=1000>\n",
       "</iframe>"
      ],
      "text/plain": [
       "<IPython.core.display.HTML object>"
      ]
     },
     "metadata": {},
     "output_type": "display_data"
    }
   ],
   "source": [
    "%%HTML\n",
    "<iframe src=\"https://se.timeedit.net/web/umu/db1/public1/riq53Q03621Z6YQy7Q98Z6q667Z085087Y50Y0gQ00ogZ5QXQ6o.html\" height=600 width=1000>\n",
    "</iframe>"
   ]
  },
  {
   "cell_type": "markdown",
   "metadata": {
    "nbpresent": {
     "id": "5cecfe6d-d9a9-4b0f-a3b6-b0855d2cd37b"
    },
    "slideshow": {
     "slide_type": "slide"
    }
   },
   "source": [
    "## Reading material\n",
    "* Lectures, lecture notes, and notebooks for the part \"Introduction to Finite Difference Methods\"\n",
    "* Book \"The Finite Element Method. Theory, Implementation and Applications\" by Mats G. Larson and Frederik Bengzon\n",
    "* Additionally (not required): \"Partial Differential Equations with Numerical Methods\" by Stig Larsson and Vidar Thomée\n",
    "* Collection of course material on [\"Numerical Methods for Partial Differential Equations\"](http://hplgit.github.io/num-methods-for-PDEs/doc/pub/) by Hans-Petter Langtangen \n",
    "\n",
    "<table><tr><td><img src='lecture_01_files/fem-book-larson-bengzon.jpg' width=\"300\"></td><td><img src='lecture_01_files/fem-book-larsson-thomee.jpg' width=\"200\"></td></tr></table>\n",
    "\n"
   ]
  },
  {
   "cell_type": "markdown",
   "metadata": {
    "slideshow": {
     "slide_type": "skip"
    }
   },
   "source": [
    "Beginning of next slide we add some $\\LaTeX$ macros inside a math environment"
   ]
  },
  {
   "cell_type": "markdown",
   "metadata": {
    "slideshow": {
     "slide_type": "slide"
    }
   },
   "source": [
    "$$\n",
    "\\DeclareMathOperator{\\Div}{div}\n",
    "\\DeclareMathOperator{\\Grad}{grad}\n",
    "\\DeclareMathOperator{\\Curl}{curl}\n",
    "\\DeclareMathOperator{\\Rot}{rot}\n",
    "\\DeclareMathOperator{\\ord}{ord}\n",
    "\\DeclareMathOperator{\\Kern}{ker}\n",
    "\\DeclareMathOperator{\\Image}{im}\n",
    "\\DeclareMathOperator{\\spann}{span}\n",
    "\\DeclareMathOperator{\\dist}{dist}\n",
    "\\DeclareMathOperator{\\diam}{diam}\n",
    "\\DeclareMathOperator{\\sig}{sig}\n",
    "\\newcommand{\\RR}{\\mathbb{R}}\n",
    "\\newcommand{\\NN}{\\mathbb{N}}\n",
    "\\newcommand{\\VV}{\\mathbb{V}}\n",
    "\\newcommand{\\dGamma}{\\,\\mathrm{d} \\Gamma}\n",
    "\\newcommand{\\dGammah}{\\,\\mathrm{d} \\Gamma_h}\n",
    "\\newcommand{\\dx}{\\,\\mathrm{d}x}\n",
    "\\newcommand{\\dy}{\\,\\mathrm{d}y}\n",
    "\\newcommand{\\ds}{\\,\\mathrm{d}s}\n",
    "\\newcommand{\\dt}{\\,\\mathrm{d}t}\n",
    "\\newcommand{\\dS}{\\,\\mathrm{d}S}\n",
    "\\newcommand{\\dV}{\\,\\mathrm{d}V}\n",
    "\\newcommand{\\dX}{\\,\\mathrm{d}X}\n",
    "\\newcommand{\\dY}{\\,\\mathrm{d}Y}\n",
    "\\newcommand{\\dE}{\\,\\mathrm{d}E}\n",
    "\\newcommand{\\dK}{\\,\\mathrm{d}K}\n",
    "\\newcommand{\\dM}{\\,\\mathrm{d}M}\n",
    "\\newcommand{\\cd}{\\mathrm{cd}}\n",
    "\\newcommand{\\onehalf}{\\frac{1}{2}}\n",
    "\\newcommand{\\bfP}{\\boldsymbol P}\n",
    "\\newcommand{\\bfx}{\\boldsymbol x}\n",
    "\\newcommand{\\bfa}{\\boldsymbol a}\n",
    "\\newcommand{\\bfu}{\\boldsymbol u}\n",
    "\\newcommand{\\bfv}{\\boldsymbol v}\n",
    "\\newcommand{\\bfe}{\\boldsymbol e}\n",
    "\\newcommand{\\bfb}{\\boldsymbol b}\n",
    "\\newcommand{\\bff}{\\boldsymbol f}\n",
    "\\newcommand{\\bfp}{\\boldsymbol p}\n",
    "\\newcommand{\\bft}{\\boldsymbol t}\n",
    "\\newcommand{\\bfj}{\\boldsymbol j}\n",
    "\\newcommand{\\bfB}{\\boldsymbol B}\n",
    "\\newcommand{\\bfV}{\\boldsymbol V}\n",
    "\\newcommand{\\bfE}{\\boldsymbol E}\n",
    "\\newcommand{\\bfB}{\\boldsymbol B}\n",
    "$$\n",
    "## What are Partial Differential Equations?\n",
    "\n",
    "\n",
    "**Definition:** A partial differential equation is an equation involving \n",
    "certaint partial derivatives of an unknown function $u: \\Omega \\subset \\RR^d \\to \\RR$ with $d \\geqslant 2$.\n",
    "\n",
    "Recall that **first order** partial derivatives\n",
    "$$\n",
    "  D_i u(x) =\n",
    " \\partial_i u(x) =\n",
    " \\partial_{x_i} u(x) =\n",
    " \\dfrac{\\partial}{\\partial x_i} u(x) =\n",
    "  u_{x_i}(x_0)=\n",
    "  \\lim_{h\\to 0} \\dfrac{u(x_0 + h e_i) - u(x_0)}{h} =\n",
    "  \\lim_{h\\to 0} \\dfrac{\n",
    "  u(x_1,\\ldots,x_{i-1},x_i + h,x_{i+1},\\ldots x_d) -\n",
    "  u(x_1,\\ldots,x_{i-1},x_i,x_{i+1},\\ldots x_d)}{h}\n",
    "  $$\n",
    "  \n",
    "Second and higher order partial derivatives\n",
    "\n",
    "$$\n",
    "\\partial_i \\partial_j u = \\dfrac{\\partial^2}{\\partial x_i \\partial x_j}u\n",
    "= D_i D_j u\n",
    "$$\n",
    "\n",
    "$$ D^{\\alpha} u = \n",
    "\\dfrac{\\partial^{|\\alpha|}}{\\partial_1^{\\alpha_1}\\cdots\\partial_d^{\\alpha_d}} u\n",
    "$$\n",
    "\n",
    "for a multiindex $\\alpha = (\\alpha_1, \\ldots, \\alpha_d)$\n",
    "and $|\\alpha| := \\alpha_1 + \\ldots + \\alpha_d$"
   ]
  },
  {
   "cell_type": "markdown",
   "metadata": {
    "slideshow": {
     "slide_type": "slide"
    }
   },
   "source": [
    "## Standard PDE operators\n",
    "\n",
    "* **Gradient** of scalar function $u: \\Omega \\subset \\RR^d \\to \\RR$\n",
    "\n",
    "$$\n",
    "\\Grad u = \\nabla u = \\left( \\partial_1 u, \\ldots, \\partial_d u \\right)\n",
    "$$\n",
    "\n",
    "* **Divergence** of a vector field $\\bfu:  \\Omega \\subset \\RR^d \\to \\RR^d$\n",
    "\n",
    "$$\n",
    "\\Div \\bfu = \\nabla \\cdot \\bfu = \\sum_{i=1}^d \\partial_i \\bfu_i\n",
    "$$\n",
    "\n",
    "* **Curl** of a vector field $\\bfu$\n",
    "\n",
    "$$\n",
    "\\Curl \\bfu = \\nabla \\times \\bfu =\n",
    "\\left(\n",
    "\\partial_y \\bfu_z - \\partial_z \\bfu_y,\n",
    "\\partial_z \\bfu_x - \\partial_x \\bfu_z,\n",
    "\\partial_x \\bfu_y - \\partial_y \\bfu_x\n",
    "\\right)\n",
    "$$\n",
    "\n",
    "* **Laplace** of $u$\n",
    "\n",
    "$$\n",
    "\\Delta u =  \\nabla \\cdot (\\nabla u) = \\sum_{i=1}^d \\partial_i u\n",
    "$$"
   ]
  },
  {
   "cell_type": "markdown",
   "metadata": {
    "slideshow": {
     "slide_type": "slide"
    }
   },
   "source": [
    "## Examples for PDEs: Linear equations\n",
    "#### Transport equation\n",
    "\n",
    "Simplest \"real\" PDE for a function $u(x,t)$ of two variables $x\\in \\RR$ and $t > 0$   \n",
    "\n",
    "$$\n",
    "\\partial_t u + b \\partial_x u = f\n",
    "$$\n",
    "\n",
    "or more generally for $u(x,t)$ with $x \\in \\RR^d$\n",
    "\n",
    "$$\n",
    "\\partial_t u + \\bfb \\cdot \\nabla u = f\n",
    "$$"
   ]
  },
  {
   "cell_type": "markdown",
   "metadata": {
    "slideshow": {
     "slide_type": "fragment"
    }
   },
   "source": [
    "#### Laplace's and Poisson's equation\n",
    "$$\n",
    " - \\Delta u =  f\n",
    "$$\n",
    "which often models equilibrium states in physics, e.g. electrostatistics, stationary heat distribution"
   ]
  },
  {
   "cell_type": "markdown",
   "metadata": {
    "slideshow": {
     "slide_type": "fragment"
    }
   },
   "source": [
    "#### Heat equation\n",
    "$$\n",
    "\\partial_tu - \\Delta u = f\n",
    "$$"
   ]
  },
  {
   "cell_type": "markdown",
   "metadata": {
    "slideshow": {
     "slide_type": "fragment"
    }
   },
   "source": [
    "#### Wave equation\n",
    "\n",
    "$$\n",
    "\\partial_t^2 u - \\Delta u = f\n",
    "$$"
   ]
  },
  {
   "cell_type": "code",
   "execution_count": 2,
   "metadata": {
    "collapsed": false,
    "slideshow": {
     "slide_type": "slide"
    }
   },
   "outputs": [
    {
     "data": {
      "image/jpeg": "[encoded data removed]",
      "text/html": [
       "\n",
       "        <iframe\n",
       "            width=\"1000\"\n",
       "            height=\"500\"\n",
       "            src=\"https://www.youtube.com/embed/nw2bPnhtxN8\"\n",
       "            frameborder=\"0\"\n",
       "            allowfullscreen\n",
       "        ></iframe>\n",
       "        "
      ],
      "text/plain": [
       "<IPython.lib.display.YouTubeVideo at 0x262a9fe8588>"
      ]
     },
     "execution_count": 2,
     "metadata": {},
     "output_type": "execute_result"
    }
   ],
   "source": [
    "from IPython.display import YouTubeVideo, HTML\n",
    "YouTubeVideo('nw2bPnhtxN8', width=1000, height=500)\n",
    "# Alternative and more general way to embed general webpages\n",
    "#HTML('<iframe width=\"1000\" height=\"500\" src=\"//www.youtube.com/embed/oWFSsCI3BzY\" frameborder=\"0\" allowfullscreen></iframe>')"
   ]
  },
  {
   "cell_type": "markdown",
   "metadata": {
    "slideshow": {
     "slide_type": "slide"
    }
   },
   "source": [
    "## Nonlinear equations\n",
    "\n",
    "#### Korteweg-de Fries equation\n",
    "The propagation of waves in shallow waters is modeled by a 3rd order, non-linear (actually, quasi-linear) PDE of the form\n",
    "$$\n",
    "u_t - 6 u u_x + u_{xxx} = 0 \n",
    "$$\n"
   ]
  },
  {
   "cell_type": "markdown",
   "metadata": {
    "slideshow": {
     "slide_type": "fragment"
    }
   },
   "source": [
    "#### Minimal surface equation\n",
    "A minimal surface $\\Gamma\\subset \\RR^3$ is a surface which locally minimizes its surface area. Expressing the surface  locally\n",
    "as the graph  of a function $u(x,y)$, $\\Gamma$ being a minimal surface\n",
    "is equivalent to satisfying the non-linear (elliptic) equation\n",
    "$$\n",
    "\\nabla \\cdot \\left(  \n",
    "\\dfrac{\\nabla u}{ (1 + |\\nabla u|^2)^{\\onehalf}}\n",
    "\\right) = 0\n",
    "$$\n",
    "\n",
    "<center>\n",
    "<img src='http://soapbubble.dk/v2/wp-content/uploads/2013/10/DSC_1503.jpg' width=\"300\">\n",
    "</center>"
   ]
  },
  {
   "cell_type": "markdown",
   "metadata": {
    "slideshow": {
     "slide_type": "slide"
    }
   },
   "source": [
    "## Linear systems of PDEs\n",
    "\n",
    "#### Linear Elasticity\n",
    "The displacement $\\bfu$ of a deformable medium at equilibrium subject to an extern load $\\bfu$ can be modeled\n",
    "by\n",
    "$$\n",
    "\\mu\\Delta\\bfu  + (\\lambda + \\mu)\\nabla (\\nabla \\cdot \\bfu) = f\n",
    "$$\n",
    "\n",
    "The instationary case (basicially resembling Newton's second law $F = ma$) is described through \n",
    "$$\n",
    "\\bfu_{tt} - \\mu\\Delta\\bfu  - (\\lambda + \\mu)\\nabla (\\nabla \\cdot \\bfu) = f\n",
    "$$"
   ]
  },
  {
   "cell_type": "markdown",
   "metadata": {
    "slideshow": {
     "slide_type": "fragment"
    }
   },
   "source": [
    "#### Maxwell's equations\n",
    "In the presence of a charge density $\\rho$ and a current density $\\bfj$,\n",
    "the electric field $\\bfE$ and magnetic field $\\bfB$ satisfy\n",
    "\\begin{align}\n",
    "\\Div \\bfB &= 0 \\\\\n",
    "\\bfB_t + \\Curl \\bfE &= 0 \\\\\n",
    "\\Div \\bfE &= 4\\pi\\rho \\\\\n",
    "\\bfE_t - \\Curl \\bfE &= - 4 \\pi \\bfj\n",
    "\\end{align}"
   ]
  },
  {
   "cell_type": "markdown",
   "metadata": {
    "slideshow": {
     "slide_type": "slide"
    }
   },
   "source": [
    "## Nonlinear systems of  PDEs\n",
    "\n",
    "#### Reaction-Diffusion systems\n",
    "$$\n",
    " \\partial_t \\bfu - \\Delta \\bfu = f(\\bfu)\n",
    "$$\n",
    "\n",
    "for exampel the Gray-Scott equations describing \n",
    "\n",
    "\\begin{align}\n",
    "\\frac{\\partial u}{\\partial t} & = D_u \\Delta u - u v^2 + F(1-u) \\qquad \\text{in } \\Omega, \n",
    "\\\\  \n",
    "\\frac{\\partial v}{\\partial t} & = D_v \\Delta v + u v^2 - (F+k)v \\qquad \\text{in } \\Omega,     \n",
    "\\end{align} \n",
    "\n",
    "modeling the reaction and diffusion of chemical species $U$ and $V$ described by their concentration $u$ and $v$. $D_u$ and $D_v$ are the diffusion coefficients, $k$ is the rate constant of the second reaction and $F$ the feed rate."
   ]
  },
  {
   "cell_type": "markdown",
   "metadata": {
    "slideshow": {
     "slide_type": "fragment"
    }
   },
   "source": [
    "<table>\n",
    "<tr>\n",
    "<td>\n",
    "<img src='lecture_01_files/zebra.jpg' alt='Zebra: Source wikipedia'  width=\"450\"> \n",
    "</td>\n",
    "<td>\n",
    "<img src='lecture_01_files/butterfly.jpg' alt='Zebra: Source wikipedia' width='400'>\n",
    "</td>\n",
    "</tr>\n",
    "</table>"
   ]
  },
  {
   "cell_type": "code",
   "execution_count": 5,
   "metadata": {
    "collapsed": false,
    "scrolled": true,
    "slideshow": {
     "slide_type": "slide"
    }
   },
   "outputs": [
    {
     "data": {
      "image/jpeg": "[encoded data removed]",
      "text/html": [
       "\n",
       "        <iframe\n",
       "            width=\"1000\"\n",
       "            height=\"200\"\n",
       "            src=\"https://www.youtube.com/embed/nw2bPnhtxN8\"\n",
       "            frameborder=\"0\"\n",
       "            allowfullscreen\n",
       "        ></iframe>\n",
       "        "
      ],
      "text/plain": [
       "<IPython.lib.display.YouTubeVideo at 0x262aa2ce4e0>"
      ]
     },
     "execution_count": 5,
     "metadata": {},
     "output_type": "execute_result"
    }
   ],
   "source": [
    "from IPython.display import YouTubeVideo, HTML\n",
    "YouTubeVideo('nw2bPnhtxN8', width=1000, height=200)"
   ]
  },
  {
   "cell_type": "markdown",
   "metadata": {
    "slideshow": {
     "slide_type": "slide"
    }
   },
   "source": [
    "#### Navier-Stokes equations \n",
    "describing incompressible, viscous flow in terms of the fluid velocity $\\bfu$ and the fluid pressure $p$\n",
    "\n",
    "$$\n",
    "\\partial_t \\bfu + (\\bfu \\cdot \\nabla) \\bfu - \\nu \\Delta \\bfu + \\nabla p = \\bff \\\\\n",
    "\\nabla \\cdot \\bfu = 0\n",
    "$$"
   ]
  },
  {
   "cell_type": "code",
   "execution_count": 8,
   "metadata": {
    "collapsed": false,
    "slideshow": {
     "slide_type": "fragment"
    }
   },
   "outputs": [
    {
     "data": {
      "text/html": [
       "<center><video width=\"800\" controls><source src=\"lecture_01_files/flow-around-a-cylinder.ogg\"></video></center>"
      ],
      "text/plain": [
       "<IPython.core.display.HTML object>"
      ]
     },
     "metadata": {},
     "output_type": "display_data"
    }
   ],
   "source": [
    "%%HTML \n",
    "<center><video width=\"800\" controls><source src=\"lecture_01_files/flow-around-a-cylinder.ogg\"></video></center>"
   ]
  },
  {
   "cell_type": "code",
   "execution_count": 9,
   "metadata": {
    "collapsed": false
   },
   "outputs": [
    {
     "data": {
      "text/html": [
       "<!--<link href='http://fonts.googleapis.com/css?family=Fenix' rel='stylesheet' type='text/css'>-->\n",
       "<link href='http://fonts.googleapis.com/css?family=Alegreya+Sans:100,300,400,500,700,800,900,100italic,300italic,400italic,500italic,700italic,800italic,900italic' rel='stylesheet' type='text/css'>\n",
       "<!-- <link href='http://fonts.googleapis.com/css?family=Source+Code+Pro:300,400' rel='stylesheet' type='text/css'>* -->\n",
       "<link href=\"https://fonts.googleapis.com/css?family=Source+Code+Pro\" rel=\"stylesheet\"> \n",
       "<link href=\"https://fonts.googleapis.com/css?family=News+Cycle\" rel=\"stylesheet\"> \n",
       "<style>\n",
       "    @font-face {\n",
       "        font-family: \"Computer Modern\";\n",
       "        src: url('http://mirrors.ctan.org/fonts/cm-unicode/fonts/otf/cmunss.otf');\n",
       "        font-family: 'News Cycle', sans-serif;\n",
       "    }\n",
       "\n",
       "    div.cell{\n",
       "        /*max-width:600px;*/\n",
       "        /*margin-left:16% !important;*/\n",
       "        /*margin-right:auto;*/\n",
       "    }\n",
       "    div.text_cell {\n",
       "        max-width: 105ex /* instead of 100%, */\n",
       "        }\n",
       "    h1 {\n",
       "        font-family: 'Alegreya Sans', sans-serif;\n",
       "    }\n",
       "    h2 {\n",
       "        /*font-family: 'Fenix', serif;*/\n",
       "        font-family: 'Alegreya Sans', sans-serif;\n",
       "        color: #5889C5;\n",
       "        /*color: #5889C5;*/\n",
       "    }\n",
       "    h3{\n",
       "\t\t/*font-family: 'Fenix', serif;*/\n",
       "        font-family: 'Alegreya Sans', sans-serif;\n",
       "        color: #5889C5;\n",
       "        /*color: #5889C5;*/\n",
       "        /*margin-top:12px;*/\n",
       "        /*margin-bottom: 3px;*/\n",
       "       }\n",
       "\th4{\n",
       "\t\t/*font-family: 'Fenix', serif;*/\n",
       "        font-family: 'Alegreya Sans', sans-serif;\n",
       "        color: #5889C5;\n",
       "       }\n",
       "    h5 {\n",
       "        font-family: 'Alegreya Sans', sans-serif;\n",
       "        color: #5889C5;\n",
       "    }\t   \n",
       "    div.text_cell_render{\n",
       "        /*font-family: News Cycle, Geneva,Computer Modern, \"Helvetica Neue\", Arial, Helvetica, Geneva, sans-serif;*/\n",
       "        font-family: 'Alegreya Sans','News Cycle',Computer Modern, \"Helvetica Neue\", Arial, Helvetica, Geneva, sans-serif;\n",
       "        line-height: 135%;\n",
       "        font-size: 120%;\n",
       "        /*width:600px;*/\n",
       "        /*margin-left:auto;*/\n",
       "        /*margin-right:auto;*/\n",
       "    }\n",
       "    .CodeMirror{\n",
       "            font-family: 'Source Code Pro', monospace;\n",
       "            /*font-style: italic;*/\n",
       "            /*font-weight: bold;*/\n",
       "            /*font-size: 120%;*/\n",
       "    }\n",
       "    /*.prompt{\n",
       "        display: None;\n",
       "    }*/\n",
       "    .text_cell_render h1 {\n",
       "        font-weight: 200;\n",
       "        font-size: 50pt;\n",
       "\t\tline-height: 100%;\n",
       "        color: #5889C5;\n",
       "        margin-bottom: 0.5em;\n",
       "        margin-top: 0.5em;\n",
       "        display: block;\n",
       "    }\t\n",
       "    .text_cell_render h5 {\n",
       "        font-weight: 300;\n",
       "        font-size: 16pt;\n",
       "        color: #5889C5;\n",
       "        font-style: italic;\n",
       "        margin-bottom: .5em;\n",
       "        margin-top: 0.5em;\n",
       "        display: block;\n",
       "    }\n",
       "    \n",
       "    .warning{\n",
       "        color: rgb( 240, 20, 20 )\n",
       "        }  \n",
       "</style>\n",
       "<script>\n",
       "    MathJax.Hub.Config({\n",
       "                        TeX: {\n",
       "                           extensions: [\"AMSmath.js\",\"begingroup.js\"],\n",
       "                           Macros: {\n",
       "                               RR: \"{\\\\mathbb{R}\",\n",
       "                               mcO: \"\\\\mathcal{O}\"\n",
       "                           }\n",
       "                           },\n",
       "                tex2jax: {\n",
       "                    inlineMath: [ ['$','$'], [\"\\\\(\",\"\\\\)\"] ],\n",
       "                    displayMath: [ ['$$','$$'], [\"\\\\[\",\"\\\\]\"] ]\n",
       "                },\n",
       "                displayAlign: 'center', // Change this to 'center' to center equations.\n",
       "                \"HTML-CSS\": {\n",
       "                    styles: {'.MathJax_Display': {\"margin\": 4}}\n",
       "                }\n",
       "        });\n",
       "</script>\n"
      ],
      "text/plain": [
       "<IPython.core.display.HTML object>"
      ]
     },
     "execution_count": 9,
     "metadata": {},
     "output_type": "execute_result"
    }
   ],
   "source": [
    "from IPython.core.display import HTML\n",
    "def css_styling():\n",
    "    styles = open(\"../styles/custom.css\", \"r\").read()\n",
    "    return HTML(styles)\n",
    "\n",
    "# Comment out next line and execute this cell to restore the default notebook style \n",
    "css_styling()"
   ]
  }
 ],
 "metadata": {
  "anaconda-cloud": {},
  "celltoolbar": "Slideshow",
  "kernelspec": {
   "display_name": "Python [default]",
   "language": "python",
   "name": "python3"
  },
  "language_info": {
   "codemirror_mode": {
    "name": "ipython",
    "version": 3
   },
   "file_extension": ".py",
   "mimetype": "text/x-python",
   "name": "python",
   "nbconvert_exporter": "python",
   "pygments_lexer": "ipython3",
   "version": "3.5.2"
  },
  "nbpresent": {
   "slides": {},
   "themes": {}
  }
 },
 "nbformat": 4,
 "nbformat_minor": 1
}
